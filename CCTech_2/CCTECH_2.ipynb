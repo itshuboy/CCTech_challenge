{
  "nbformat": 4,
  "nbformat_minor": 0,
  "metadata": {
    "colab": {
      "name": "CCTECH_2.ipynb",
      "provenance": [],
      "collapsed_sections": [],
      "toc_visible": true
    },
    "kernelspec": {
      "name": "python3",
      "display_name": "Python 3"
    }
  },
  "cells": [
    {
      "cell_type": "markdown",
      "metadata": {
        "id": "L4_8HnvysHcq",
        "colab_type": "text"
      },
      "source": [
        "# Clonning the Dataset"
      ]
    },
    {
      "cell_type": "code",
      "metadata": {
        "id": "0-0dFmV4i-UD",
        "colab_type": "code",
        "colab": {
          "base_uri": "https://localhost:8080/",
          "height": 119
        },
        "outputId": "23948cdc-9978-4ac1-8e99-9ac2080cfe93"
      },
      "source": [
        "!git clone --depth 1 https://github.com/cctech-labs/challenges"
      ],
      "execution_count": 282,
      "outputs": [
        {
          "output_type": "stream",
          "text": [
            "Cloning into 'challenges'...\n",
            "remote: Enumerating objects: 23, done.\u001b[K\n",
            "remote: Counting objects:   4% (1/23)\u001b[K\rremote: Counting objects:   8% (2/23)\u001b[K\rremote: Counting objects:  13% (3/23)\u001b[K\rremote: Counting objects:  17% (4/23)\u001b[K\rremote: Counting objects:  21% (5/23)\u001b[K\rremote: Counting objects:  26% (6/23)\u001b[K\rremote: Counting objects:  30% (7/23)\u001b[K\rremote: Counting objects:  34% (8/23)\u001b[K\rremote: Counting objects:  39% (9/23)\u001b[K\rremote: Counting objects:  43% (10/23)\u001b[K\rremote: Counting objects:  47% (11/23)\u001b[K\rremote: Counting objects:  52% (12/23)\u001b[K\rremote: Counting objects:  56% (13/23)\u001b[K\rremote: Counting objects:  60% (14/23)\u001b[K\rremote: Counting objects:  65% (15/23)\u001b[K\rremote: Counting objects:  69% (16/23)\u001b[K\rremote: Counting objects:  73% (17/23)\u001b[K\rremote: Counting objects:  78% (18/23)\u001b[K\rremote: Counting objects:  82% (19/23)\u001b[K\rremote: Counting objects:  86% (20/23)\u001b[K\rremote: Counting objects:  91% (21/23)\u001b[K\rremote: Counting objects:  95% (22/23)\u001b[K\rremote: Counting objects: 100% (23/23)\u001b[K\rremote: Counting objects: 100% (23/23), done.\u001b[K\n",
            "remote: Compressing objects: 100% (19/19), done.\u001b[K\n",
            "remote: Total 23 (delta 0), reused 18 (delta 0), pack-reused 0\u001b[K\n",
            "Unpacking objects: 100% (23/23), done.\n"
          ],
          "name": "stdout"
        }
      ]
    },
    {
      "cell_type": "markdown",
      "metadata": {
        "id": "4Yq-7Fnm0AUq",
        "colab_type": "text"
      },
      "source": [
        "# **Importing the Libraries**"
      ]
    },
    {
      "cell_type": "code",
      "metadata": {
        "id": "dwowweObi2VG",
        "colab_type": "code",
        "colab": {}
      },
      "source": [
        "import pandas as pd\n",
        "import matplotlib.pyplot as plt\n",
        "import numpy as np\n",
        "import seaborn as sns\n",
        "from sklearn.metrics  import r2_score\n",
        "\n",
        "\n",
        "import xgboost\n",
        "from xgboost import XGBClassifier\n",
        "from sklearn.metrics import confusion_matrix,f1_score,accuracy_score,precision_score,recall_score,classification_report"
      ],
      "execution_count": 317,
      "outputs": []
    },
    {
      "cell_type": "code",
      "metadata": {
        "id": "auAienJBjEPU",
        "colab_type": "code",
        "colab": {
          "base_uri": "https://localhost:8080/",
          "height": 686
        },
        "outputId": "0e5db8e9-d9bc-4808-8180-39a07cb3385c"
      },
      "source": [
        "%cd '/content/challenges/2020/06/hiring/resources/data_science/'\n",
        "df=pd.read_csv('challenge2_dataset.csv')\n",
        "df.head(20)"
      ],
      "execution_count": 318,
      "outputs": [
        {
          "output_type": "stream",
          "text": [
            "/content/challenges/2020/06/hiring/resources/data_science\n"
          ],
          "name": "stdout"
        },
        {
          "output_type": "execute_result",
          "data": {
            "text/html": [
              "<div>\n",
              "<style scoped>\n",
              "    .dataframe tbody tr th:only-of-type {\n",
              "        vertical-align: middle;\n",
              "    }\n",
              "\n",
              "    .dataframe tbody tr th {\n",
              "        vertical-align: top;\n",
              "    }\n",
              "\n",
              "    .dataframe thead th {\n",
              "        text-align: right;\n",
              "    }\n",
              "</style>\n",
              "<table border=\"1\" class=\"dataframe\">\n",
              "  <thead>\n",
              "    <tr style=\"text-align: right;\">\n",
              "      <th></th>\n",
              "      <th>Unnamed: 0</th>\n",
              "      <th>1</th>\n",
              "      <th>2</th>\n",
              "      <th>3</th>\n",
              "      <th>Target</th>\n",
              "    </tr>\n",
              "  </thead>\n",
              "  <tbody>\n",
              "    <tr>\n",
              "      <th>0</th>\n",
              "      <td>0</td>\n",
              "      <td>0.60</td>\n",
              "      <td>0.31</td>\n",
              "      <td>13.0</td>\n",
              "      <td>False</td>\n",
              "    </tr>\n",
              "    <tr>\n",
              "      <th>1</th>\n",
              "      <td>1</td>\n",
              "      <td>0.74</td>\n",
              "      <td>0.33</td>\n",
              "      <td>21.0</td>\n",
              "      <td>False</td>\n",
              "    </tr>\n",
              "    <tr>\n",
              "      <th>2</th>\n",
              "      <td>2</td>\n",
              "      <td>0.54</td>\n",
              "      <td>0.19</td>\n",
              "      <td>NaN</td>\n",
              "      <td>True</td>\n",
              "    </tr>\n",
              "    <tr>\n",
              "      <th>3</th>\n",
              "      <td>3</td>\n",
              "      <td>0.46</td>\n",
              "      <td>NaN</td>\n",
              "      <td>9.0</td>\n",
              "      <td>False</td>\n",
              "    </tr>\n",
              "    <tr>\n",
              "      <th>4</th>\n",
              "      <td>4</td>\n",
              "      <td>0.77</td>\n",
              "      <td>0.15</td>\n",
              "      <td>15.0</td>\n",
              "      <td>True</td>\n",
              "    </tr>\n",
              "    <tr>\n",
              "      <th>5</th>\n",
              "      <td>5</td>\n",
              "      <td>0.46</td>\n",
              "      <td>0.17</td>\n",
              "      <td>18.0</td>\n",
              "      <td>False</td>\n",
              "    </tr>\n",
              "    <tr>\n",
              "      <th>6</th>\n",
              "      <td>6</td>\n",
              "      <td>0.49</td>\n",
              "      <td>0.26</td>\n",
              "      <td>10.0</td>\n",
              "      <td>False</td>\n",
              "    </tr>\n",
              "    <tr>\n",
              "      <th>7</th>\n",
              "      <td>7</td>\n",
              "      <td>0.40</td>\n",
              "      <td>0.12</td>\n",
              "      <td>19.0</td>\n",
              "      <td>True</td>\n",
              "    </tr>\n",
              "    <tr>\n",
              "      <th>8</th>\n",
              "      <td>8</td>\n",
              "      <td>0.77</td>\n",
              "      <td>0.17</td>\n",
              "      <td>13.0</td>\n",
              "      <td>True</td>\n",
              "    </tr>\n",
              "    <tr>\n",
              "      <th>9</th>\n",
              "      <td>9</td>\n",
              "      <td>0.69</td>\n",
              "      <td>0.28</td>\n",
              "      <td>14.0</td>\n",
              "      <td>False</td>\n",
              "    </tr>\n",
              "    <tr>\n",
              "      <th>10</th>\n",
              "      <td>10</td>\n",
              "      <td>0.80</td>\n",
              "      <td>0.12</td>\n",
              "      <td>18.0</td>\n",
              "      <td>NaN</td>\n",
              "    </tr>\n",
              "    <tr>\n",
              "      <th>11</th>\n",
              "      <td>11</td>\n",
              "      <td>0.66</td>\n",
              "      <td>0.21</td>\n",
              "      <td>11.0</td>\n",
              "      <td>True</td>\n",
              "    </tr>\n",
              "    <tr>\n",
              "      <th>12</th>\n",
              "      <td>12</td>\n",
              "      <td>0.60</td>\n",
              "      <td>0.17</td>\n",
              "      <td>15.0</td>\n",
              "      <td>False</td>\n",
              "    </tr>\n",
              "    <tr>\n",
              "      <th>13</th>\n",
              "      <td>13</td>\n",
              "      <td>0.66</td>\n",
              "      <td>0.17</td>\n",
              "      <td>10.0</td>\n",
              "      <td>True</td>\n",
              "    </tr>\n",
              "    <tr>\n",
              "      <th>14</th>\n",
              "      <td>14</td>\n",
              "      <td>0.40</td>\n",
              "      <td>0.30</td>\n",
              "      <td>16.0</td>\n",
              "      <td>False</td>\n",
              "    </tr>\n",
              "    <tr>\n",
              "      <th>15</th>\n",
              "      <td>15</td>\n",
              "      <td>0.51</td>\n",
              "      <td>0.10</td>\n",
              "      <td>12.0</td>\n",
              "      <td>False</td>\n",
              "    </tr>\n",
              "    <tr>\n",
              "      <th>16</th>\n",
              "      <td>16</td>\n",
              "      <td>0.49</td>\n",
              "      <td>0.17</td>\n",
              "      <td>12.0</td>\n",
              "      <td>False</td>\n",
              "    </tr>\n",
              "    <tr>\n",
              "      <th>17</th>\n",
              "      <td>17</td>\n",
              "      <td>0.63</td>\n",
              "      <td>0.26</td>\n",
              "      <td>21.0</td>\n",
              "      <td>False</td>\n",
              "    </tr>\n",
              "    <tr>\n",
              "      <th>18</th>\n",
              "      <td>18</td>\n",
              "      <td>0.51</td>\n",
              "      <td>0.17</td>\n",
              "      <td>20.0</td>\n",
              "      <td>False</td>\n",
              "    </tr>\n",
              "    <tr>\n",
              "      <th>19</th>\n",
              "      <td>19</td>\n",
              "      <td>0.77</td>\n",
              "      <td>0.14</td>\n",
              "      <td>17.0</td>\n",
              "      <td>False</td>\n",
              "    </tr>\n",
              "  </tbody>\n",
              "</table>\n",
              "</div>"
            ],
            "text/plain": [
              "    Unnamed: 0     1     2     3 Target\n",
              "0            0  0.60  0.31  13.0  False\n",
              "1            1  0.74  0.33  21.0  False\n",
              "2            2  0.54  0.19   NaN   True\n",
              "3            3  0.46   NaN   9.0  False\n",
              "4            4  0.77  0.15  15.0   True\n",
              "5            5  0.46  0.17  18.0  False\n",
              "6            6  0.49  0.26  10.0  False\n",
              "7            7  0.40  0.12  19.0   True\n",
              "8            8  0.77  0.17  13.0   True\n",
              "9            9  0.69  0.28  14.0  False\n",
              "10          10  0.80  0.12  18.0    NaN\n",
              "11          11  0.66  0.21  11.0   True\n",
              "12          12  0.60  0.17  15.0  False\n",
              "13          13  0.66  0.17  10.0   True\n",
              "14          14  0.40  0.30  16.0  False\n",
              "15          15  0.51  0.10  12.0  False\n",
              "16          16  0.49  0.17  12.0  False\n",
              "17          17  0.63  0.26  21.0  False\n",
              "18          18  0.51  0.17  20.0  False\n",
              "19          19  0.77  0.14  17.0  False"
            ]
          },
          "metadata": {
            "tags": []
          },
          "execution_count": 318
        }
      ]
    },
    {
      "cell_type": "markdown",
      "metadata": {
        "id": "bxnNXSGZ0LGp",
        "colab_type": "text"
      },
      "source": [
        "# **Data_Exploaration**"
      ]
    },
    {
      "cell_type": "markdown",
      "metadata": {
        "id": "bhK64yvN1dUQ",
        "colab_type": "text"
      },
      "source": [
        "To know the mean,max,count like values of the dataset"
      ]
    },
    {
      "cell_type": "code",
      "metadata": {
        "id": "DoTaNVSNkdPn",
        "colab_type": "code",
        "colab": {
          "base_uri": "https://localhost:8080/",
          "height": 297
        },
        "outputId": "4f46105f-a06b-4e5c-8216-518e6e1c9de2"
      },
      "source": [
        "df.describe()"
      ],
      "execution_count": 319,
      "outputs": [
        {
          "output_type": "execute_result",
          "data": {
            "text/html": [
              "<div>\n",
              "<style scoped>\n",
              "    .dataframe tbody tr th:only-of-type {\n",
              "        vertical-align: middle;\n",
              "    }\n",
              "\n",
              "    .dataframe tbody tr th {\n",
              "        vertical-align: top;\n",
              "    }\n",
              "\n",
              "    .dataframe thead th {\n",
              "        text-align: right;\n",
              "    }\n",
              "</style>\n",
              "<table border=\"1\" class=\"dataframe\">\n",
              "  <thead>\n",
              "    <tr style=\"text-align: right;\">\n",
              "      <th></th>\n",
              "      <th>Unnamed: 0</th>\n",
              "      <th>1</th>\n",
              "      <th>2</th>\n",
              "      <th>3</th>\n",
              "    </tr>\n",
              "  </thead>\n",
              "  <tbody>\n",
              "    <tr>\n",
              "      <th>count</th>\n",
              "      <td>1995.000000</td>\n",
              "      <td>1992.000000</td>\n",
              "      <td>1992.000000</td>\n",
              "      <td>1993.000000</td>\n",
              "    </tr>\n",
              "    <tr>\n",
              "      <th>mean</th>\n",
              "      <td>997.000000</td>\n",
              "      <td>1.488800</td>\n",
              "      <td>1.741546</td>\n",
              "      <td>16.333166</td>\n",
              "    </tr>\n",
              "    <tr>\n",
              "      <th>std</th>\n",
              "      <td>576.051213</td>\n",
              "      <td>22.145983</td>\n",
              "      <td>58.456685</td>\n",
              "      <td>42.407440</td>\n",
              "    </tr>\n",
              "    <tr>\n",
              "      <th>min</th>\n",
              "      <td>0.000000</td>\n",
              "      <td>0.400000</td>\n",
              "      <td>0.100000</td>\n",
              "      <td>0.000000</td>\n",
              "    </tr>\n",
              "    <tr>\n",
              "      <th>25%</th>\n",
              "      <td>498.500000</td>\n",
              "      <td>0.490000</td>\n",
              "      <td>0.150000</td>\n",
              "      <td>12.000000</td>\n",
              "    </tr>\n",
              "    <tr>\n",
              "      <th>50%</th>\n",
              "      <td>997.000000</td>\n",
              "      <td>0.600000</td>\n",
              "      <td>0.220000</td>\n",
              "      <td>15.000000</td>\n",
              "    </tr>\n",
              "    <tr>\n",
              "      <th>75%</th>\n",
              "      <td>1495.500000</td>\n",
              "      <td>0.710000</td>\n",
              "      <td>0.300000</td>\n",
              "      <td>19.000000</td>\n",
              "    </tr>\n",
              "    <tr>\n",
              "      <th>max</th>\n",
              "      <td>1994.000000</td>\n",
              "      <td>600.000000</td>\n",
              "      <td>2600.000000</td>\n",
              "      <td>1900.000000</td>\n",
              "    </tr>\n",
              "  </tbody>\n",
              "</table>\n",
              "</div>"
            ],
            "text/plain": [
              "        Unnamed: 0            1            2            3\n",
              "count  1995.000000  1992.000000  1992.000000  1993.000000\n",
              "mean    997.000000     1.488800     1.741546    16.333166\n",
              "std     576.051213    22.145983    58.456685    42.407440\n",
              "min       0.000000     0.400000     0.100000     0.000000\n",
              "25%     498.500000     0.490000     0.150000    12.000000\n",
              "50%     997.000000     0.600000     0.220000    15.000000\n",
              "75%    1495.500000     0.710000     0.300000    19.000000\n",
              "max    1994.000000   600.000000  2600.000000  1900.000000"
            ]
          },
          "metadata": {
            "tags": []
          },
          "execution_count": 319
        }
      ]
    },
    {
      "cell_type": "code",
      "metadata": {
        "id": "ybhKleOJjL0F",
        "colab_type": "code",
        "colab": {
          "base_uri": "https://localhost:8080/",
          "height": 221
        },
        "outputId": "4620fb33-1d26-4a58-dd20-e25e10fcf363"
      },
      "source": [
        "df.info()"
      ],
      "execution_count": 320,
      "outputs": [
        {
          "output_type": "stream",
          "text": [
            "<class 'pandas.core.frame.DataFrame'>\n",
            "RangeIndex: 1995 entries, 0 to 1994\n",
            "Data columns (total 5 columns):\n",
            " #   Column      Non-Null Count  Dtype  \n",
            "---  ------      --------------  -----  \n",
            " 0   Unnamed: 0  1995 non-null   int64  \n",
            " 1   1           1992 non-null   float64\n",
            " 2   2           1992 non-null   float64\n",
            " 3   3           1993 non-null   float64\n",
            " 4   Target      1984 non-null   object \n",
            "dtypes: float64(3), int64(1), object(1)\n",
            "memory usage: 78.1+ KB\n"
          ],
          "name": "stdout"
        }
      ]
    },
    {
      "cell_type": "markdown",
      "metadata": {
        "id": "E4ydK6o60Uba",
        "colab_type": "text"
      },
      "source": [
        "*It is having 1 integer,3 float and  1 object variable(so, we need to encode it before feeding to our model)*"
      ]
    },
    {
      "cell_type": "markdown",
      "metadata": {
        "id": "6Z9CjJ9z0zfT",
        "colab_type": "text"
      },
      "source": [
        "Checking null values"
      ]
    },
    {
      "cell_type": "code",
      "metadata": {
        "id": "5jP02R3fkM1s",
        "colab_type": "code",
        "colab": {
          "base_uri": "https://localhost:8080/",
          "height": 119
        },
        "outputId": "846ff8ca-d2b7-49c9-ea75-628c5ba455ba"
      },
      "source": [
        "df.isnull().sum()"
      ],
      "execution_count": 321,
      "outputs": [
        {
          "output_type": "execute_result",
          "data": {
            "text/plain": [
              "Unnamed: 0     0\n",
              "1              3\n",
              "2              3\n",
              "3              2\n",
              "Target        11\n",
              "dtype: int64"
            ]
          },
          "metadata": {
            "tags": []
          },
          "execution_count": 321
        }
      ]
    },
    {
      "cell_type": "markdown",
      "metadata": {
        "id": "KgrfNUYO04cT",
        "colab_type": "text"
      },
      "source": [
        "***Adjusting the missing data***\n",
        "\n",
        "*by replacing the it with mean and ffill*"
      ]
    },
    {
      "cell_type": "code",
      "metadata": {
        "id": "NuXDO-PXlwr1",
        "colab_type": "code",
        "colab": {
          "base_uri": "https://localhost:8080/",
          "height": 221
        },
        "outputId": "9ef1c535-b376-49b8-8e86-2344d08ac66c"
      },
      "source": [
        "df=df.rename(columns={'Unnamed: 0':'unnamed'})\n",
        "df['1'].fillna(df['1'].mean(),inplace=True)\n",
        "df['2'].fillna(df['2'].mean(),inplace=True)\n",
        "df['3'].fillna(df['3'].mean(),inplace=True)\n",
        "df.Target.fillna(method='ffill')"
      ],
      "execution_count": 322,
      "outputs": [
        {
          "output_type": "execute_result",
          "data": {
            "text/plain": [
              "0       False\n",
              "1       False\n",
              "2        True\n",
              "3       False\n",
              "4        True\n",
              "        ...  \n",
              "1990    False\n",
              "1991     True\n",
              "1992    False\n",
              "1993    False\n",
              "1994    False\n",
              "Name: Target, Length: 1995, dtype: bool"
            ]
          },
          "metadata": {
            "tags": []
          },
          "execution_count": 322
        }
      ]
    },
    {
      "cell_type": "markdown",
      "metadata": {
        "id": "PdyNzzTQ1N_N",
        "colab_type": "text"
      },
      "source": [
        "Splitting the dataset into dependant and independant variable i.e. X and y "
      ]
    },
    {
      "cell_type": "code",
      "metadata": {
        "id": "0A13bG6PmJZe",
        "colab_type": "code",
        "colab": {}
      },
      "source": [
        "X=df.iloc[:,:-1]\n",
        "y=df['Target']"
      ],
      "execution_count": 323,
      "outputs": []
    },
    {
      "cell_type": "markdown",
      "metadata": {
        "id": "dVi3dAW_1XSP",
        "colab_type": "text"
      },
      "source": [
        "**Correlation Analysis**\n",
        "\n",
        "\n",
        "*It shows the correlation of one variable to all other variables*\n",
        "\n",
        "\n",
        "1.   Greater the correlation,more it will related to other variable.\n",
        "2.   We can discard the feature having more correlation.\n",
        "3.   variable with it obviously have 1 correlation.\n"
      ]
    },
    {
      "cell_type": "code",
      "metadata": {
        "id": "Qv2eEDEan4Kl",
        "colab_type": "code",
        "colab": {
          "base_uri": "https://localhost:8080/",
          "height": 286
        },
        "outputId": "42e67738-b679-4f68-fe61-cfe8a0c0ec80"
      },
      "source": [
        "sns.heatmap(df.corr(),annot=True)"
      ],
      "execution_count": 324,
      "outputs": [
        {
          "output_type": "execute_result",
          "data": {
            "text/plain": [
              "<matplotlib.axes._subplots.AxesSubplot at 0x7fb6c193b828>"
            ]
          },
          "metadata": {
            "tags": []
          },
          "execution_count": 324
        },
        {
          "output_type": "display_data",
          "data": {
            "image/png": "[encoded data removed]",
            "text/plain": [
              "<Figure size 432x288 with 2 Axes>"
            ]
          },
          "metadata": {
            "tags": [],
            "needs_background": "light"
          }
        }
      ]
    },
    {
      "cell_type": "markdown",
      "metadata": {
        "id": "X9ZM7vpt1o0b",
        "colab_type": "text"
      },
      "source": [
        "there's not much of correlation between the variables so we can't discard any of them"
      ]
    },
    {
      "cell_type": "code",
      "metadata": {
        "id": "qFNoi2kuvLUt",
        "colab_type": "code",
        "colab": {
          "base_uri": "https://localhost:8080/",
          "height": 34
        },
        "outputId": "c3a83c08-64c0-473a-94c7-a34d1e71cd02"
      },
      "source": [
        "X.shape"
      ],
      "execution_count": 325,
      "outputs": [
        {
          "output_type": "execute_result",
          "data": {
            "text/plain": [
              "(1995, 4)"
            ]
          },
          "metadata": {
            "tags": []
          },
          "execution_count": 325
        }
      ]
    },
    {
      "cell_type": "markdown",
      "metadata": {
        "id": "4K6Xe4tW1zPu",
        "colab_type": "text"
      },
      "source": [
        "# Feature Scaling\n",
        "\n",
        "*Feature Scaling is a technique to standardize the independent features present in the data in a fixed range*\n",
        "\n",
        "It protect the feature having small range bt great impact on model from feature having big range"
      ]
    },
    {
      "cell_type": "code",
      "metadata": {
        "id": "yUMc_dFCvOZG",
        "colab_type": "code",
        "colab": {
          "base_uri": "https://localhost:8080/",
          "height": 136
        },
        "outputId": "f0bb0ee2-d5ba-4f69-9aee-4decdcb44250"
      },
      "source": [
        "from sklearn.preprocessing import StandardScaler\n",
        "sc_X=StandardScaler()\n",
        "X=sc_X.fit_transform(X)\n",
        "X"
      ],
      "execution_count": 326,
      "outputs": [
        {
          "output_type": "execute_result",
          "data": {
            "text/plain": [
              "array([[-1.73118283, -0.04017399, -0.02451359, -0.07865778],\n",
              "       [-1.72944644, -0.03384596, -0.02417112,  0.11013036],\n",
              "       [-1.72771005, -0.04288601, -0.02656846,  0.        ],\n",
              "       ...,\n",
              "       [ 1.72771005, -0.03746198, -0.02571226, -0.03146074],\n",
              "       [ 1.72944644, -0.04650203, -0.02536979, -0.12585482],\n",
              "       [ 1.73118283, -0.04514602, -0.02605474, -0.14945333]])"
            ]
          },
          "metadata": {
            "tags": []
          },
          "execution_count": 326
        }
      ]
    },
    {
      "cell_type": "markdown",
      "metadata": {
        "id": "gAd460lI1-fj",
        "colab_type": "text"
      },
      "source": [
        "# Handling categorical data"
      ]
    },
    {
      "cell_type": "markdown",
      "metadata": {
        "id": "PpHOm5KG2HwQ",
        "colab_type": "text"
      },
      "source": [
        "Machine only can understand the numbers(i.e. numerical data)\n",
        "\n",
        "In order to convert categorical data we can use some techniques such as label Encoding, Onehot Encoding, dummy variables etc.\n",
        "\n",
        "**Label encoding** is simply converting each value in a column to a number.\n",
        "for example: \n",
        "\n",
        "\n",
        "\n",
        "\n",
        "*   True ->1\n",
        "*   False->0\n",
        "\n"
      ]
    },
    {
      "cell_type": "code",
      "metadata": {
        "id": "IHwEgy1W70Jm",
        "colab_type": "code",
        "colab": {
          "base_uri": "https://localhost:8080/",
          "height": 34
        },
        "outputId": "8d9f021e-d401-4396-e0bc-13f530ae3f5c"
      },
      "source": [
        "from sklearn.preprocessing import LabelEncoder\n",
        "enc_y=LabelEncoder()\n",
        "y=enc_y.fit_transform(y)\n",
        "y"
      ],
      "execution_count": 327,
      "outputs": [
        {
          "output_type": "execute_result",
          "data": {
            "text/plain": [
              "array([0, 0, 1, ..., 0, 0, 0])"
            ]
          },
          "metadata": {
            "tags": []
          },
          "execution_count": 327
        }
      ]
    },
    {
      "cell_type": "markdown",
      "metadata": {
        "id": "ymV8Nv6H2YbS",
        "colab_type": "text"
      },
      "source": [
        "# Splitting the data into train test set"
      ]
    },
    {
      "cell_type": "code",
      "metadata": {
        "id": "J5RIEr1t-PZl",
        "colab_type": "code",
        "colab": {
          "base_uri": "https://localhost:8080/",
          "height": 34
        },
        "outputId": "1faf3aac-d733-49aa-b9b4-5148922ab4c0"
      },
      "source": [
        "from sklearn.model_selection import train_test_split\n",
        "X_train,X_test,y_train,y_test=train_test_split(X,y,test_size=0.3)\n",
        "y_train"
      ],
      "execution_count": 328,
      "outputs": [
        {
          "output_type": "execute_result",
          "data": {
            "text/plain": [
              "array([0, 0, 1, ..., 0, 0, 0])"
            ]
          },
          "metadata": {
            "tags": []
          },
          "execution_count": 328
        }
      ]
    },
    {
      "cell_type": "code",
      "metadata": {
        "id": "F2F4yyRrJOR5",
        "colab_type": "code",
        "colab": {
          "base_uri": "https://localhost:8080/",
          "height": 136
        },
        "outputId": "f0e5800a-1cab-47ce-aa95-317c7dedbdc9"
      },
      "source": [
        "\n",
        "xgb=XGBClassifier(base_score=0.5,max_depth=3,n_estimators=100,random_state=42)\n",
        "xgb.fit(X_train,y_train)"
      ],
      "execution_count": 329,
      "outputs": [
        {
          "output_type": "execute_result",
          "data": {
            "text/plain": [
              "XGBClassifier(base_score=0.5, booster='gbtree', colsample_bylevel=1,\n",
              "              colsample_bynode=1, colsample_bytree=1, gamma=0,\n",
              "              learning_rate=0.1, max_delta_step=0, max_depth=3,\n",
              "              min_child_weight=1, missing=None, n_estimators=100, n_jobs=1,\n",
              "              nthread=None, objective='multi:softprob', random_state=42,\n",
              "              reg_alpha=0, reg_lambda=1, scale_pos_weight=1, seed=None,\n",
              "              silent=None, subsample=1, verbosity=1)"
            ]
          },
          "metadata": {
            "tags": []
          },
          "execution_count": 329
        }
      ]
    },
    {
      "cell_type": "code",
      "metadata": {
        "id": "T1FGrNV38wms",
        "colab_type": "code",
        "colab": {
          "base_uri": "https://localhost:8080/",
          "height": 54
        },
        "outputId": "f07733ad-2f1b-4cbb-a493-f4817c215792"
      },
      "source": [
        "'''from sklearn.linear_model import SGDClassifier\n",
        "\n",
        "cf=SGDClassifier(penalty='l2',loss='hinge',max_iter=100)\n",
        "cf.fit(X_train,y_train)'''"
      ],
      "execution_count": 330,
      "outputs": [
        {
          "output_type": "execute_result",
          "data": {
            "text/plain": [
              "\"from sklearn.linear_model import SGDClassifier\\n\\ncf=SGDClassifier(penalty='l2',loss='hinge',max_iter=100)\\ncf.fit(X_train,y_train)\""
            ]
          },
          "metadata": {
            "tags": []
          },
          "execution_count": 330
        }
      ]
    },
    {
      "cell_type": "code",
      "metadata": {
        "id": "QRplwrE7_ecE",
        "colab_type": "code",
        "colab": {}
      },
      "source": [
        "y_train_pred=xgb.predict(X_train)\n",
        "y_test_pred=xgb.predict(X_test)"
      ],
      "execution_count": 331,
      "outputs": []
    },
    {
      "cell_type": "markdown",
      "metadata": {
        "id": "Jik9gE5s2zo4",
        "colab_type": "text"
      },
      "source": [
        "# Evalution Of Model"
      ]
    },
    {
      "cell_type": "markdown",
      "metadata": {
        "id": "-FbrC1Vj3EsU",
        "colab_type": "text"
      },
      "source": [
        "**Confusion metrics**\n",
        "\n",
        "It is a matrix of real values and predicted values.\n",
        "It is collection of True positive,True Negative,False Postive and False negative"
      ]
    },
    {
      "cell_type": "code",
      "metadata": {
        "id": "prA4kQS5_y6r",
        "colab_type": "code",
        "colab": {
          "base_uri": "https://localhost:8080/",
          "height": 85
        },
        "outputId": "c23a7f91-e2f7-474b-d7ea-4d3123fc746b"
      },
      "source": [
        "\n",
        "print(\"Train Confusion metrics:\\n\",confusion_matrix(y_train,y_train_pred))"
      ],
      "execution_count": 332,
      "outputs": [
        {
          "output_type": "stream",
          "text": [
            "Train Confusion metrics:\n",
            " [[1089    2    0]\n",
            " [   8  289    0]\n",
            " [   5    0    3]]\n"
          ],
          "name": "stdout"
        }
      ]
    },
    {
      "cell_type": "code",
      "metadata": {
        "id": "d8Z4ya2BM_r1",
        "colab_type": "code",
        "colab": {
          "base_uri": "https://localhost:8080/",
          "height": 85
        },
        "outputId": "9cc7971b-3e1e-4bcd-f246-173cee1011c0"
      },
      "source": [
        "print(\"Train Confusion metrics:\\n\",confusion_matrix(y_test,y_test_pred))"
      ],
      "execution_count": 333,
      "outputs": [
        {
          "output_type": "stream",
          "text": [
            "Train Confusion metrics:\n",
            " [[463   9   0]\n",
            " [ 10 114   0]\n",
            " [  3   0   0]]\n"
          ],
          "name": "stdout"
        }
      ]
    },
    {
      "cell_type": "markdown",
      "metadata": {
        "id": "nkboX5jZ34wR",
        "colab_type": "text"
      },
      "source": [
        "**f1_Score**"
      ]
    },
    {
      "cell_type": "code",
      "metadata": {
        "id": "bOrrM1sXAwvK",
        "colab_type": "code",
        "colab": {
          "base_uri": "https://localhost:8080/",
          "height": 34
        },
        "outputId": "0aec959b-7682-4f20-b9db-7db563c37b06"
      },
      "source": [
        "f1_score(y_train,y_train_pred,average='micro')"
      ],
      "execution_count": 334,
      "outputs": [
        {
          "output_type": "execute_result",
          "data": {
            "text/plain": [
              "0.9892550143266475"
            ]
          },
          "metadata": {
            "tags": []
          },
          "execution_count": 334
        }
      ]
    },
    {
      "cell_type": "markdown",
      "metadata": {
        "id": "lZARJCA43-uC",
        "colab_type": "text"
      },
      "source": [
        "**Classification Report**"
      ]
    },
    {
      "cell_type": "code",
      "metadata": {
        "id": "ZkofeJb7CKuG",
        "colab_type": "code",
        "colab": {
          "base_uri": "https://localhost:8080/",
          "height": 187
        },
        "outputId": "4a525f1e-f577-43e7-b27d-f366a32bc560"
      },
      "source": [
        "print(classification_report(y_train,y_train_pred))"
      ],
      "execution_count": 335,
      "outputs": [
        {
          "output_type": "stream",
          "text": [
            "              precision    recall  f1-score   support\n",
            "\n",
            "           0       0.99      1.00      0.99      1091\n",
            "           1       0.99      0.97      0.98       297\n",
            "           2       1.00      0.38      0.55         8\n",
            "\n",
            "    accuracy                           0.99      1396\n",
            "   macro avg       0.99      0.78      0.84      1396\n",
            "weighted avg       0.99      0.99      0.99      1396\n",
            "\n"
          ],
          "name": "stdout"
        }
      ]
    },
    {
      "cell_type": "code",
      "metadata": {
        "id": "T70S_XJxKkkS",
        "colab_type": "code",
        "colab": {
          "base_uri": "https://localhost:8080/",
          "height": 241
        },
        "outputId": "2513aeff-0e25-47aa-da9d-78f8b4226321"
      },
      "source": [
        "print(classification_report(y_test,y_test_pred))"
      ],
      "execution_count": 336,
      "outputs": [
        {
          "output_type": "stream",
          "text": [
            "              precision    recall  f1-score   support\n",
            "\n",
            "           0       0.97      0.98      0.98       472\n",
            "           1       0.93      0.92      0.92       124\n",
            "           2       0.00      0.00      0.00         3\n",
            "\n",
            "    accuracy                           0.96       599\n",
            "   macro avg       0.63      0.63      0.63       599\n",
            "weighted avg       0.96      0.96      0.96       599\n",
            "\n"
          ],
          "name": "stdout"
        },
        {
          "output_type": "stream",
          "text": [
            "/usr/local/lib/python3.6/dist-packages/sklearn/metrics/_classification.py:1272: UndefinedMetricWarning: Precision and F-score are ill-defined and being set to 0.0 in labels with no predicted samples. Use `zero_division` parameter to control this behavior.\n",
            "  _warn_prf(average, modifier, msg_start, len(result))\n"
          ],
          "name": "stderr"
        }
      ]
    },
    {
      "cell_type": "markdown",
      "metadata": {
        "id": "WSyQxRRBSXkE",
        "colab_type": "text"
      },
      "source": [
        "# Importing prediction dataset"
      ]
    },
    {
      "cell_type": "code",
      "metadata": {
        "id": "c8uGaoSbRaou",
        "colab_type": "code",
        "colab": {
          "base_uri": "https://localhost:8080/",
          "height": 34
        },
        "outputId": "d9384b4e-76f3-41c1-8960-fb0f436bf36a"
      },
      "source": [
        "%cd '/content/challenges/2020/06/hiring/resources/data_science'\n",
        "data=pd.read_csv('challenge2_prediction.csv')"
      ],
      "execution_count": 337,
      "outputs": [
        {
          "output_type": "stream",
          "text": [
            "/content/challenges/2020/06/hiring/resources/data_science\n"
          ],
          "name": "stdout"
        }
      ]
    },
    {
      "cell_type": "code",
      "metadata": {
        "id": "sE2l3R3SSv6j",
        "colab_type": "code",
        "colab": {
          "base_uri": "https://localhost:8080/",
          "height": 204
        },
        "outputId": "e3378240-e7df-472d-c1f3-824149295e32"
      },
      "source": [
        "data.head()"
      ],
      "execution_count": 338,
      "outputs": [
        {
          "output_type": "execute_result",
          "data": {
            "text/html": [
              "<div>\n",
              "<style scoped>\n",
              "    .dataframe tbody tr th:only-of-type {\n",
              "        vertical-align: middle;\n",
              "    }\n",
              "\n",
              "    .dataframe tbody tr th {\n",
              "        vertical-align: top;\n",
              "    }\n",
              "\n",
              "    .dataframe thead th {\n",
              "        text-align: right;\n",
              "    }\n",
              "</style>\n",
              "<table border=\"1\" class=\"dataframe\">\n",
              "  <thead>\n",
              "    <tr style=\"text-align: right;\">\n",
              "      <th></th>\n",
              "      <th>Unnamed: 0</th>\n",
              "      <th>1</th>\n",
              "      <th>2</th>\n",
              "      <th>3</th>\n",
              "    </tr>\n",
              "  </thead>\n",
              "  <tbody>\n",
              "    <tr>\n",
              "      <th>0</th>\n",
              "      <td>1995</td>\n",
              "      <td>0.74</td>\n",
              "      <td>0.21</td>\n",
              "      <td>22.0</td>\n",
              "    </tr>\n",
              "    <tr>\n",
              "      <th>1</th>\n",
              "      <td>1996</td>\n",
              "      <td>0.43</td>\n",
              "      <td>0.15</td>\n",
              "      <td>14.0</td>\n",
              "    </tr>\n",
              "    <tr>\n",
              "      <th>2</th>\n",
              "      <td>1997</td>\n",
              "      <td>0.77</td>\n",
              "      <td>0.10</td>\n",
              "      <td>15.0</td>\n",
              "    </tr>\n",
              "    <tr>\n",
              "      <th>3</th>\n",
              "      <td>1998</td>\n",
              "      <td>0.57</td>\n",
              "      <td>0.31</td>\n",
              "      <td>15.0</td>\n",
              "    </tr>\n",
              "    <tr>\n",
              "      <th>4</th>\n",
              "      <td>1999</td>\n",
              "      <td>0.80</td>\n",
              "      <td>0.31</td>\n",
              "      <td>20.0</td>\n",
              "    </tr>\n",
              "  </tbody>\n",
              "</table>\n",
              "</div>"
            ],
            "text/plain": [
              "   Unnamed: 0     1     2     3\n",
              "0        1995  0.74  0.21  22.0\n",
              "1        1996  0.43  0.15  14.0\n",
              "2        1997  0.77  0.10  15.0\n",
              "3        1998  0.57  0.31  15.0\n",
              "4        1999  0.80  0.31  20.0"
            ]
          },
          "metadata": {
            "tags": []
          },
          "execution_count": 338
        }
      ]
    },
    {
      "cell_type": "code",
      "metadata": {
        "id": "1uCzMG52S_Y_",
        "colab_type": "code",
        "colab": {
          "base_uri": "https://localhost:8080/",
          "height": 102
        },
        "outputId": "351d8859-25c7-4e4a-aca6-2c7aec5bc189"
      },
      "source": [
        "data.isnull().sum()"
      ],
      "execution_count": 339,
      "outputs": [
        {
          "output_type": "execute_result",
          "data": {
            "text/plain": [
              "Unnamed: 0    0\n",
              "1             4\n",
              "2             5\n",
              "3             4\n",
              "dtype: int64"
            ]
          },
          "metadata": {
            "tags": []
          },
          "execution_count": 339
        }
      ]
    },
    {
      "cell_type": "code",
      "metadata": {
        "id": "YU6Nnav8S4yX",
        "colab_type": "code",
        "colab": {
          "base_uri": "https://localhost:8080/",
          "height": 204
        },
        "outputId": "1cfa6377-718c-46d7-aa18-ad907495455b"
      },
      "source": [
        "data=data.rename(columns={'Unnamed: 0':'unnamed'})\n",
        "data['1'].fillna(data['1'].mean(),inplace=True)\n",
        "data['2'].fillna(data['2'].mean(),inplace=True)\n",
        "data['3'].fillna(data['3'].mean(),inplace=True)\n",
        "data.head()"
      ],
      "execution_count": 340,
      "outputs": [
        {
          "output_type": "execute_result",
          "data": {
            "text/html": [
              "<div>\n",
              "<style scoped>\n",
              "    .dataframe tbody tr th:only-of-type {\n",
              "        vertical-align: middle;\n",
              "    }\n",
              "\n",
              "    .dataframe tbody tr th {\n",
              "        vertical-align: top;\n",
              "    }\n",
              "\n",
              "    .dataframe thead th {\n",
              "        text-align: right;\n",
              "    }\n",
              "</style>\n",
              "<table border=\"1\" class=\"dataframe\">\n",
              "  <thead>\n",
              "    <tr style=\"text-align: right;\">\n",
              "      <th></th>\n",
              "      <th>unnamed</th>\n",
              "      <th>1</th>\n",
              "      <th>2</th>\n",
              "      <th>3</th>\n",
              "    </tr>\n",
              "  </thead>\n",
              "  <tbody>\n",
              "    <tr>\n",
              "      <th>0</th>\n",
              "      <td>1995</td>\n",
              "      <td>0.74</td>\n",
              "      <td>0.21</td>\n",
              "      <td>22.0</td>\n",
              "    </tr>\n",
              "    <tr>\n",
              "      <th>1</th>\n",
              "      <td>1996</td>\n",
              "      <td>0.43</td>\n",
              "      <td>0.15</td>\n",
              "      <td>14.0</td>\n",
              "    </tr>\n",
              "    <tr>\n",
              "      <th>2</th>\n",
              "      <td>1997</td>\n",
              "      <td>0.77</td>\n",
              "      <td>0.10</td>\n",
              "      <td>15.0</td>\n",
              "    </tr>\n",
              "    <tr>\n",
              "      <th>3</th>\n",
              "      <td>1998</td>\n",
              "      <td>0.57</td>\n",
              "      <td>0.31</td>\n",
              "      <td>15.0</td>\n",
              "    </tr>\n",
              "    <tr>\n",
              "      <th>4</th>\n",
              "      <td>1999</td>\n",
              "      <td>0.80</td>\n",
              "      <td>0.31</td>\n",
              "      <td>20.0</td>\n",
              "    </tr>\n",
              "  </tbody>\n",
              "</table>\n",
              "</div>"
            ],
            "text/plain": [
              "   unnamed     1     2     3\n",
              "0     1995  0.74  0.21  22.0\n",
              "1     1996  0.43  0.15  14.0\n",
              "2     1997  0.77  0.10  15.0\n",
              "3     1998  0.57  0.31  15.0\n",
              "4     1999  0.80  0.31  20.0"
            ]
          },
          "metadata": {
            "tags": []
          },
          "execution_count": 340
        }
      ]
    },
    {
      "cell_type": "code",
      "metadata": {
        "id": "KGWu8cK1TP_D",
        "colab_type": "code",
        "colab": {
          "base_uri": "https://localhost:8080/",
          "height": 34
        },
        "outputId": "3b679023-cad7-48fa-e002-9f57c62fcf6d"
      },
      "source": [
        "data.shape"
      ],
      "execution_count": 341,
      "outputs": [
        {
          "output_type": "execute_result",
          "data": {
            "text/plain": [
              "(855, 4)"
            ]
          },
          "metadata": {
            "tags": []
          },
          "execution_count": 341
        }
      ]
    },
    {
      "cell_type": "code",
      "metadata": {
        "id": "GAbqR2oqTxB9",
        "colab_type": "code",
        "colab": {
          "base_uri": "https://localhost:8080/",
          "height": 136
        },
        "outputId": "e0b89b07-9828-4410-d2fb-6b6434b901dd"
      },
      "source": [
        "\n",
        "sc_X=StandardScaler()\n",
        "data=sc_X.fit_transform(data)\n",
        "data"
      ],
      "execution_count": 342,
      "outputs": [
        {
          "output_type": "execute_result",
          "data": {
            "text/plain": [
              "array([[-1.7300262 , -0.04363223, -0.03493221, -0.02806464],\n",
              "       [-1.72597462, -0.05488647, -0.03585623, -0.03918754],\n",
              "       [-1.72192303, -0.04254311, -0.03662624, -0.03779718],\n",
              "       ...,\n",
              "       [ 1.72192303, -0.05270823, -0.0341622 , -0.03501645],\n",
              "       [ 1.72597462, -0.04762567, -0.03339218, -0.03918754],\n",
              "       [ 1.7300262 , -0.04145399, -0.03493221, -0.03640682]])"
            ]
          },
          "metadata": {
            "tags": []
          },
          "execution_count": 342
        }
      ]
    },
    {
      "cell_type": "markdown",
      "metadata": {
        "id": "HWUZG1Jq4aYH",
        "colab_type": "text"
      },
      "source": [
        "**Predicting the Target variable using our xgb model**"
      ]
    },
    {
      "cell_type": "code",
      "metadata": {
        "id": "NbDYTlbTUI6f",
        "colab_type": "code",
        "colab": {
          "base_uri": "https://localhost:8080/",
          "height": 680
        },
        "outputId": "cbc8053e-8f8e-484a-9b00-02df2b8ade1b"
      },
      "source": [
        "final=xgb.predict(data)\n",
        "final"
      ],
      "execution_count": 343,
      "outputs": [
        {
          "output_type": "execute_result",
          "data": {
            "text/plain": [
              "array([0, 1, 0, 1, 0, 0, 0, 0, 0, 0, 0, 0, 0, 0, 0, 0, 1, 0, 0, 0, 0, 0,\n",
              "       0, 0, 0, 0, 0, 0, 0, 0, 0, 0, 0, 0, 0, 0, 0, 0, 0, 0, 0, 0, 0, 0,\n",
              "       0, 0, 0, 0, 0, 0, 0, 0, 0, 0, 0, 0, 0, 0, 0, 0, 0, 0, 0, 0, 0, 0,\n",
              "       0, 0, 0, 0, 0, 0, 0, 0, 0, 0, 0, 0, 0, 0, 0, 0, 0, 0, 0, 0, 0, 0,\n",
              "       0, 0, 0, 0, 0, 0, 1, 0, 0, 0, 0, 0, 0, 0, 0, 0, 0, 0, 0, 0, 0, 0,\n",
              "       0, 0, 0, 0, 0, 0, 0, 0, 0, 0, 0, 0, 0, 0, 0, 0, 0, 0, 0, 0, 0, 0,\n",
              "       0, 0, 0, 0, 0, 0, 0, 0, 0, 0, 0, 0, 0, 0, 0, 0, 0, 0, 0, 0, 0, 0,\n",
              "       0, 0, 0, 0, 0, 0, 0, 0, 0, 0, 0, 0, 0, 0, 0, 0, 0, 0, 0, 0, 0, 0,\n",
              "       0, 0, 0, 0, 0, 0, 0, 0, 0, 0, 0, 0, 0, 0, 0, 0, 0, 0, 0, 0, 0, 0,\n",
              "       0, 0, 0, 0, 0, 0, 0, 0, 0, 0, 0, 0, 0, 0, 0, 0, 0, 0, 0, 0, 0, 0,\n",
              "       0, 0, 0, 0, 0, 0, 0, 0, 0, 0, 0, 0, 0, 0, 0, 0, 0, 0, 0, 0, 0, 0,\n",
              "       0, 0, 0, 0, 0, 0, 0, 0, 0, 0, 0, 0, 0, 0, 0, 0, 0, 0, 0, 0, 0, 0,\n",
              "       0, 0, 0, 0, 0, 0, 0, 0, 0, 0, 0, 0, 0, 0, 0, 0, 0, 0, 0, 0, 0, 0,\n",
              "       0, 0, 0, 0, 0, 0, 0, 0, 0, 0, 0, 0, 0, 0, 0, 0, 0, 0, 0, 0, 0, 0,\n",
              "       0, 0, 0, 0, 0, 0, 0, 0, 0, 0, 0, 0, 0, 0, 0, 0, 0, 0, 0, 0, 0, 0,\n",
              "       0, 0, 0, 0, 0, 0, 0, 0, 0, 0, 0, 0, 0, 0, 0, 0, 0, 0, 0, 0, 0, 0,\n",
              "       0, 0, 0, 0, 0, 0, 0, 0, 0, 0, 0, 0, 0, 0, 0, 0, 0, 0, 0, 0, 0, 0,\n",
              "       0, 0, 0, 0, 0, 0, 0, 0, 0, 0, 0, 0, 0, 0, 0, 0, 0, 0, 0, 0, 0, 0,\n",
              "       0, 0, 0, 0, 0, 0, 0, 0, 0, 0, 0, 0, 0, 0, 0, 0, 0, 0, 0, 0, 0, 0,\n",
              "       0, 0, 0, 0, 0, 0, 0, 0, 0, 0, 0, 0, 0, 0, 0, 0, 0, 0, 0, 0, 0, 0,\n",
              "       0, 0, 0, 0, 0, 0, 0, 0, 0, 0, 0, 0, 0, 0, 0, 0, 0, 0, 0, 0, 0, 0,\n",
              "       0, 0, 0, 0, 0, 0, 0, 0, 0, 0, 0, 0, 0, 0, 0, 0, 0, 0, 0, 0, 0, 0,\n",
              "       0, 0, 0, 0, 0, 0, 0, 0, 0, 0, 0, 0, 0, 0, 0, 0, 0, 0, 0, 0, 0, 0,\n",
              "       0, 0, 0, 0, 0, 0, 0, 0, 0, 0, 0, 0, 0, 0, 0, 0, 0, 0, 0, 0, 0, 0,\n",
              "       0, 0, 0, 0, 0, 0, 0, 0, 0, 0, 0, 0, 0, 0, 0, 0, 0, 0, 0, 0, 0, 0,\n",
              "       0, 0, 0, 0, 0, 0, 0, 0, 0, 0, 0, 0, 0, 0, 0, 0, 0, 0, 0, 0, 0, 0,\n",
              "       0, 0, 0, 0, 0, 0, 0, 0, 0, 0, 0, 0, 0, 0, 0, 0, 0, 0, 0, 0, 0, 0,\n",
              "       0, 0, 0, 0, 0, 0, 0, 0, 0, 0, 0, 0, 0, 0, 0, 0, 0, 0, 0, 0, 0, 0,\n",
              "       0, 0, 0, 0, 0, 0, 0, 0, 0, 0, 0, 0, 0, 0, 0, 0, 0, 0, 0, 0, 0, 0,\n",
              "       0, 0, 0, 0, 0, 0, 0, 0, 0, 0, 0, 0, 0, 0, 0, 0, 0, 0, 0, 0, 0, 0,\n",
              "       0, 0, 0, 0, 0, 0, 0, 0, 0, 0, 0, 0, 0, 0, 0, 0, 0, 0, 0, 0, 0, 0,\n",
              "       0, 0, 0, 0, 0, 0, 0, 0, 0, 0, 0, 0, 0, 0, 0, 0, 0, 0, 0, 0, 1, 0,\n",
              "       0, 0, 0, 0, 0, 0, 0, 0, 0, 0, 0, 0, 0, 0, 0, 0, 0, 0, 0, 0, 0, 0,\n",
              "       0, 0, 0, 0, 0, 0, 0, 0, 0, 0, 0, 0, 0, 0, 0, 0, 0, 1, 0, 0, 0, 0,\n",
              "       0, 0, 0, 0, 0, 1, 0, 0, 0, 0, 0, 0, 0, 0, 0, 0, 0, 0, 0, 0, 0, 0,\n",
              "       0, 0, 0, 0, 0, 0, 0, 0, 0, 0, 0, 0, 0, 0, 0, 0, 0, 0, 0, 0, 0, 0,\n",
              "       1, 0, 0, 0, 0, 0, 0, 0, 0, 0, 0, 0, 0, 0, 0, 0, 0, 0, 0, 0, 0, 0,\n",
              "       0, 0, 0, 0, 0, 0, 0, 0, 0, 0, 0, 0, 0, 0, 0, 0, 0, 0, 0, 0, 0, 0,\n",
              "       0, 0, 1, 0, 0, 0, 0, 0, 0, 0, 0, 0, 0, 0, 0, 0, 0, 0, 0])"
            ]
          },
          "metadata": {
            "tags": []
          },
          "execution_count": 343
        }
      ]
    },
    {
      "cell_type": "markdown",
      "metadata": {
        "id": "sAmY4Eb_5B2x",
        "colab_type": "text"
      },
      "source": [
        "Framing the output"
      ]
    },
    {
      "cell_type": "code",
      "metadata": {
        "id": "E-V8xhEPVPz3",
        "colab_type": "code",
        "colab": {
          "base_uri": "https://localhost:8080/",
          "height": 204
        },
        "outputId": "6c45f06c-d5fc-456e-ead7-4aa9804d9bd1"
      },
      "source": [
        "final=pd.DataFrame({\"Target\":final})\n",
        "final.head()"
      ],
      "execution_count": 344,
      "outputs": [
        {
          "output_type": "execute_result",
          "data": {
            "text/html": [
              "<div>\n",
              "<style scoped>\n",
              "    .dataframe tbody tr th:only-of-type {\n",
              "        vertical-align: middle;\n",
              "    }\n",
              "\n",
              "    .dataframe tbody tr th {\n",
              "        vertical-align: top;\n",
              "    }\n",
              "\n",
              "    .dataframe thead th {\n",
              "        text-align: right;\n",
              "    }\n",
              "</style>\n",
              "<table border=\"1\" class=\"dataframe\">\n",
              "  <thead>\n",
              "    <tr style=\"text-align: right;\">\n",
              "      <th></th>\n",
              "      <th>Target</th>\n",
              "    </tr>\n",
              "  </thead>\n",
              "  <tbody>\n",
              "    <tr>\n",
              "      <th>0</th>\n",
              "      <td>0</td>\n",
              "    </tr>\n",
              "    <tr>\n",
              "      <th>1</th>\n",
              "      <td>1</td>\n",
              "    </tr>\n",
              "    <tr>\n",
              "      <th>2</th>\n",
              "      <td>0</td>\n",
              "    </tr>\n",
              "    <tr>\n",
              "      <th>3</th>\n",
              "      <td>1</td>\n",
              "    </tr>\n",
              "    <tr>\n",
              "      <th>4</th>\n",
              "      <td>0</td>\n",
              "    </tr>\n",
              "  </tbody>\n",
              "</table>\n",
              "</div>"
            ],
            "text/plain": [
              "   Target\n",
              "0       0\n",
              "1       1\n",
              "2       0\n",
              "3       1\n",
              "4       0"
            ]
          },
          "metadata": {
            "tags": []
          },
          "execution_count": 344
        }
      ]
    },
    {
      "cell_type": "markdown",
      "metadata": {
        "id": "j3FiY0P45GMY",
        "colab_type": "text"
      },
      "source": [
        "We want output in True and False format but we have in 0 and 1.\n",
        "\n",
        "So, we will do something here"
      ]
    },
    {
      "cell_type": "code",
      "metadata": {
        "id": "riVYb9XDVdn7",
        "colab_type": "code",
        "colab": {}
      },
      "source": [
        "def ele(en):\n",
        "  if en==1:\n",
        "    return 'True'\n",
        "  else:\n",
        "    return 'False'"
      ],
      "execution_count": 345,
      "outputs": []
    },
    {
      "cell_type": "code",
      "metadata": {
        "id": "1vw3pmqnXJFn",
        "colab_type": "code",
        "colab": {}
      },
      "source": [
        "final=final.Target.apply(ele)\n"
      ],
      "execution_count": 346,
      "outputs": []
    },
    {
      "cell_type": "code",
      "metadata": {
        "id": "5ApEmf1vXutL",
        "colab_type": "code",
        "colab": {
          "base_uri": "https://localhost:8080/",
          "height": 204
        },
        "outputId": "243e2f47-ed70-4fd4-f20c-2430e0d56ebb"
      },
      "source": [
        "final=pd.DataFrame({\"Target\":final})\n",
        "final.head()"
      ],
      "execution_count": 347,
      "outputs": [
        {
          "output_type": "execute_result",
          "data": {
            "text/html": [
              "<div>\n",
              "<style scoped>\n",
              "    .dataframe tbody tr th:only-of-type {\n",
              "        vertical-align: middle;\n",
              "    }\n",
              "\n",
              "    .dataframe tbody tr th {\n",
              "        vertical-align: top;\n",
              "    }\n",
              "\n",
              "    .dataframe thead th {\n",
              "        text-align: right;\n",
              "    }\n",
              "</style>\n",
              "<table border=\"1\" class=\"dataframe\">\n",
              "  <thead>\n",
              "    <tr style=\"text-align: right;\">\n",
              "      <th></th>\n",
              "      <th>Target</th>\n",
              "    </tr>\n",
              "  </thead>\n",
              "  <tbody>\n",
              "    <tr>\n",
              "      <th>0</th>\n",
              "      <td>False</td>\n",
              "    </tr>\n",
              "    <tr>\n",
              "      <th>1</th>\n",
              "      <td>True</td>\n",
              "    </tr>\n",
              "    <tr>\n",
              "      <th>2</th>\n",
              "      <td>False</td>\n",
              "    </tr>\n",
              "    <tr>\n",
              "      <th>3</th>\n",
              "      <td>True</td>\n",
              "    </tr>\n",
              "    <tr>\n",
              "      <th>4</th>\n",
              "      <td>False</td>\n",
              "    </tr>\n",
              "  </tbody>\n",
              "</table>\n",
              "</div>"
            ],
            "text/plain": [
              "  Target\n",
              "0  False\n",
              "1   True\n",
              "2  False\n",
              "3   True\n",
              "4  False"
            ]
          },
          "metadata": {
            "tags": []
          },
          "execution_count": 347
        }
      ]
    },
    {
      "cell_type": "markdown",
      "metadata": {
        "id": "CQskLtr_5tEs",
        "colab_type": "text"
      },
      "source": [
        "# *Exporting into excel sheet*"
      ]
    },
    {
      "cell_type": "code",
      "metadata": {
        "id": "f4ltHaAUrHL4",
        "colab_type": "code",
        "colab": {}
      },
      "source": [
        "final.to_excel('challenge2_prediction_Target.xlsx',index=False)"
      ],
      "execution_count": 281,
      "outputs": []
    },
    {
      "cell_type": "code",
      "metadata": {
        "id": "QmzRTHCPrvx3",
        "colab_type": "code",
        "colab": {}
      },
      "source": [
        ""
      ],
      "execution_count": null,
      "outputs": []
    }
  ]
}