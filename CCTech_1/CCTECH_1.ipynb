{
  "nbformat": 4,
  "nbformat_minor": 0,
  "metadata": {
    "colab": {
      "name": "CCTECH_1.ipynb",
      "provenance": [],
      "toc_visible": true
    },
    "kernelspec": {
      "name": "python3",
      "display_name": "Python 3"
    }
  },
  "cells": [
    {
      "cell_type": "markdown",
      "metadata": {
        "id": "GfqVWjB3sPUT",
        "colab_type": "text"
      },
      "source": [
        "# Clonning the Datasets"
      ]
    },
    {
      "cell_type": "code",
      "metadata": {
        "id": "tojbZi4ir0dg",
        "colab_type": "code",
        "colab": {
          "base_uri": "https://localhost:8080/",
          "height": 119
        },
        "outputId": "52cfa6cd-af15-4531-a25e-ae058679d628"
      },
      "source": [
        "!git clone --depth 1 https://github.com/cctech-labs/challenges"
      ],
      "execution_count": 1,
      "outputs": [
        {
          "output_type": "stream",
          "text": [
            "Cloning into 'challenges'...\n",
            "remote: Enumerating objects: 23, done.\u001b[K\n",
            "remote: Counting objects: 100% (23/23), done.\u001b[K\n",
            "remote: Compressing objects: 100% (19/19), done.\u001b[K\n",
            "remote: Total 23 (delta 0), reused 18 (delta 0), pack-reused 0\u001b[K\n",
            "Unpacking objects: 100% (23/23), done.\n"
          ],
          "name": "stdout"
        }
      ]
    },
    {
      "cell_type": "markdown",
      "metadata": {
        "id": "WGvYc665sdNJ",
        "colab_type": "text"
      },
      "source": [
        "# **Importing the Libraries**"
      ]
    },
    {
      "cell_type": "code",
      "metadata": {
        "id": "hI614H6jr4XT",
        "colab_type": "code",
        "colab": {}
      },
      "source": [
        "import pandas as pd\n",
        "import matplotlib.pyplot as plt\n",
        "import numpy as np\n",
        "import seaborn as sns\n",
        "from sklearn.metrics  import r2_score\n",
        "\n",
        "\n",
        "from sklearn.model_selection import RandomizedSearchCV\n",
        "import xgboost\n",
        "from xgboost import XGBRegressor\n",
        "from sklearn.tree import DecisionTreeRegressor\n",
        "from sklearn.svm import SVR\n",
        "\n"
      ],
      "execution_count": 14,
      "outputs": []
    },
    {
      "cell_type": "markdown",
      "metadata": {
        "id": "1eA7bqX7siHA",
        "colab_type": "text"
      },
      "source": [
        "**Loading the dataset using pandas**"
      ]
    },
    {
      "cell_type": "code",
      "metadata": {
        "id": "taZZfv6csguf",
        "colab_type": "code",
        "colab": {
          "base_uri": "https://localhost:8080/",
          "height": 996
        },
        "outputId": "d330359b-c0e6-4cf1-a550-bc017a35e8e8"
      },
      "source": [
        "%cd /content/challenges/2020/06/hiring/resources/data_science\n",
        "df=pd.read_csv('dataset.csv')\n",
        "df.head(30)"
      ],
      "execution_count": 4,
      "outputs": [
        {
          "output_type": "stream",
          "text": [
            "/content/challenges/2020/06/hiring/resources/data_science\n"
          ],
          "name": "stdout"
        },
        {
          "output_type": "execute_result",
          "data": {
            "text/html": [
              "<div>\n",
              "<style scoped>\n",
              "    .dataframe tbody tr th:only-of-type {\n",
              "        vertical-align: middle;\n",
              "    }\n",
              "\n",
              "    .dataframe tbody tr th {\n",
              "        vertical-align: top;\n",
              "    }\n",
              "\n",
              "    .dataframe thead th {\n",
              "        text-align: right;\n",
              "    }\n",
              "</style>\n",
              "<table border=\"1\" class=\"dataframe\">\n",
              "  <thead>\n",
              "    <tr style=\"text-align: right;\">\n",
              "      <th></th>\n",
              "      <th>0</th>\n",
              "      <th>1</th>\n",
              "      <th>2</th>\n",
              "      <th>3</th>\n",
              "      <th>4</th>\n",
              "      <th>5</th>\n",
              "      <th>6</th>\n",
              "      <th>7</th>\n",
              "      <th>8</th>\n",
              "      <th>target</th>\n",
              "    </tr>\n",
              "  </thead>\n",
              "  <tbody>\n",
              "    <tr>\n",
              "      <th>0</th>\n",
              "      <td>7.547600</td>\n",
              "      <td>0.151261</td>\n",
              "      <td>557.132466</td>\n",
              "      <td>354.008599</td>\n",
              "      <td>0.301029</td>\n",
              "      <td>55.282594</td>\n",
              "      <td>9635.211683</td>\n",
              "      <td>2.0</td>\n",
              "      <td>1.0</td>\n",
              "      <td>9461.469590</td>\n",
              "    </tr>\n",
              "    <tr>\n",
              "      <th>1</th>\n",
              "      <td>3.140491</td>\n",
              "      <td>0.794497</td>\n",
              "      <td>837.116189</td>\n",
              "      <td>104.515774</td>\n",
              "      <td>0.110622</td>\n",
              "      <td>88.516243</td>\n",
              "      <td>9425.041942</td>\n",
              "      <td>2.0</td>\n",
              "      <td>5.0</td>\n",
              "      <td>10257.271938</td>\n",
              "    </tr>\n",
              "    <tr>\n",
              "      <th>2</th>\n",
              "      <td>2.064447</td>\n",
              "      <td>0.236500</td>\n",
              "      <td>313.757354</td>\n",
              "      <td>259.127993</td>\n",
              "      <td>0.729964</td>\n",
              "      <td>88.350465</td>\n",
              "      <td>9115.661199</td>\n",
              "      <td>1.0</td>\n",
              "      <td>5.0</td>\n",
              "      <td>8719.214483</td>\n",
              "    </tr>\n",
              "    <tr>\n",
              "      <th>3</th>\n",
              "      <td>9.099262</td>\n",
              "      <td>0.453953</td>\n",
              "      <td>661.409826</td>\n",
              "      <td>466.070226</td>\n",
              "      <td>0.432750</td>\n",
              "      <td>21.516152</td>\n",
              "      <td>9584.310016</td>\n",
              "      <td>3.0</td>\n",
              "      <td>2.0</td>\n",
              "      <td>9165.197338</td>\n",
              "    </tr>\n",
              "    <tr>\n",
              "      <th>4</th>\n",
              "      <td>5.264564</td>\n",
              "      <td>0.683869</td>\n",
              "      <td>344.154511</td>\n",
              "      <td>485.441053</td>\n",
              "      <td>0.085599</td>\n",
              "      <td>90.308205</td>\n",
              "      <td>9193.271575</td>\n",
              "      <td>2.0</td>\n",
              "      <td>1.0</td>\n",
              "      <td>9458.427537</td>\n",
              "    </tr>\n",
              "    <tr>\n",
              "      <th>5</th>\n",
              "      <td>7.688266</td>\n",
              "      <td>0.871856</td>\n",
              "      <td>824.173406</td>\n",
              "      <td>462.940826</td>\n",
              "      <td>0.768816</td>\n",
              "      <td>6.705479</td>\n",
              "      <td>9118.359368</td>\n",
              "      <td>3.0</td>\n",
              "      <td>2.0</td>\n",
              "      <td>7441.792936</td>\n",
              "    </tr>\n",
              "    <tr>\n",
              "      <th>6</th>\n",
              "      <td>5.252539</td>\n",
              "      <td>0.897271</td>\n",
              "      <td>526.574095</td>\n",
              "      <td>250.151408</td>\n",
              "      <td>0.770116</td>\n",
              "      <td>56.625500</td>\n",
              "      <td>9360.889134</td>\n",
              "      <td>2.0</td>\n",
              "      <td>3.0</td>\n",
              "      <td>8806.508114</td>\n",
              "    </tr>\n",
              "    <tr>\n",
              "      <th>7</th>\n",
              "      <td>2.282011</td>\n",
              "      <td>0.838755</td>\n",
              "      <td>987.022428</td>\n",
              "      <td>311.906871</td>\n",
              "      <td>0.493161</td>\n",
              "      <td>58.570037</td>\n",
              "      <td>9340.238354</td>\n",
              "      <td>3.0</td>\n",
              "      <td>6.0</td>\n",
              "      <td>9118.925554</td>\n",
              "    </tr>\n",
              "    <tr>\n",
              "      <th>8</th>\n",
              "      <td>5.052074</td>\n",
              "      <td>0.505893</td>\n",
              "      <td>178.842481</td>\n",
              "      <td>381.734539</td>\n",
              "      <td>0.233114</td>\n",
              "      <td>6.549088</td>\n",
              "      <td>9488.742341</td>\n",
              "      <td>3.0</td>\n",
              "      <td>4.0</td>\n",
              "      <td>8860.349162</td>\n",
              "    </tr>\n",
              "    <tr>\n",
              "      <th>9</th>\n",
              "      <td>6.089318</td>\n",
              "      <td>0.814142</td>\n",
              "      <td>69.891881</td>\n",
              "      <td>393.489756</td>\n",
              "      <td>0.912482</td>\n",
              "      <td>61.485333</td>\n",
              "      <td>9940.104060</td>\n",
              "      <td>2.0</td>\n",
              "      <td>5.0</td>\n",
              "      <td>7952.540140</td>\n",
              "    </tr>\n",
              "    <tr>\n",
              "      <th>10</th>\n",
              "      <td>4.604351</td>\n",
              "      <td>0.211114</td>\n",
              "      <td>866.130117</td>\n",
              "      <td>183.477711</td>\n",
              "      <td>0.746454</td>\n",
              "      <td>12.474865</td>\n",
              "      <td>9164.453134</td>\n",
              "      <td>2.0</td>\n",
              "      <td>4.0</td>\n",
              "      <td>8452.070405</td>\n",
              "    </tr>\n",
              "    <tr>\n",
              "      <th>11</th>\n",
              "      <td>9.550097</td>\n",
              "      <td>0.750328</td>\n",
              "      <td>171.273568</td>\n",
              "      <td>241.874522</td>\n",
              "      <td>0.788620</td>\n",
              "      <td>38.384100</td>\n",
              "      <td>9997.818837</td>\n",
              "      <td>1.0</td>\n",
              "      <td>2.0</td>\n",
              "      <td>9702.467084</td>\n",
              "    </tr>\n",
              "    <tr>\n",
              "      <th>12</th>\n",
              "      <td>9.850484</td>\n",
              "      <td>0.138784</td>\n",
              "      <td>201.096928</td>\n",
              "      <td>378.628753</td>\n",
              "      <td>0.009012</td>\n",
              "      <td>27.357965</td>\n",
              "      <td>9380.992326</td>\n",
              "      <td>1.0</td>\n",
              "      <td>2.0</td>\n",
              "      <td>9836.923115</td>\n",
              "    </tr>\n",
              "    <tr>\n",
              "      <th>13</th>\n",
              "      <td>1.918985</td>\n",
              "      <td>0.887111</td>\n",
              "      <td>800.586218</td>\n",
              "      <td>236.317607</td>\n",
              "      <td>0.702091</td>\n",
              "      <td>75.288040</td>\n",
              "      <td>9647.671310</td>\n",
              "      <td>3.0</td>\n",
              "      <td>3.0</td>\n",
              "      <td>8724.580600</td>\n",
              "    </tr>\n",
              "    <tr>\n",
              "      <th>14</th>\n",
              "      <td>2.693755</td>\n",
              "      <td>0.814356</td>\n",
              "      <td>155.856516</td>\n",
              "      <td>321.213281</td>\n",
              "      <td>0.971157</td>\n",
              "      <td>9.746432</td>\n",
              "      <td>9579.419466</td>\n",
              "      <td>2.0</td>\n",
              "      <td>4.0</td>\n",
              "      <td>8186.020019</td>\n",
              "    </tr>\n",
              "    <tr>\n",
              "      <th>15</th>\n",
              "      <td>7.704434</td>\n",
              "      <td>0.136535</td>\n",
              "      <td>101.522330</td>\n",
              "      <td>446.468688</td>\n",
              "      <td>0.466843</td>\n",
              "      <td>85.821837</td>\n",
              "      <td>9029.026385</td>\n",
              "      <td>2.0</td>\n",
              "      <td>1.0</td>\n",
              "      <td>8405.513670</td>\n",
              "    </tr>\n",
              "    <tr>\n",
              "      <th>16</th>\n",
              "      <td>8.453051</td>\n",
              "      <td>0.871474</td>\n",
              "      <td>996.438829</td>\n",
              "      <td>448.281387</td>\n",
              "      <td>0.887677</td>\n",
              "      <td>10.399807</td>\n",
              "      <td>9041.432154</td>\n",
              "      <td>3.0</td>\n",
              "      <td>2.0</td>\n",
              "      <td>7353.739207</td>\n",
              "    </tr>\n",
              "    <tr>\n",
              "      <th>17</th>\n",
              "      <td>7.931474</td>\n",
              "      <td>0.058478</td>\n",
              "      <td>233.155612</td>\n",
              "      <td>149.041372</td>\n",
              "      <td>0.753602</td>\n",
              "      <td>13.359255</td>\n",
              "      <td>9153.720484</td>\n",
              "      <td>1.0</td>\n",
              "      <td>4.0</td>\n",
              "      <td>8666.276303</td>\n",
              "    </tr>\n",
              "    <tr>\n",
              "      <th>18</th>\n",
              "      <td>0.339598</td>\n",
              "      <td>0.880747</td>\n",
              "      <td>623.098532</td>\n",
              "      <td>283.507581</td>\n",
              "      <td>0.803201</td>\n",
              "      <td>0.229168</td>\n",
              "      <td>9801.910723</td>\n",
              "      <td>2.0</td>\n",
              "      <td>1.0</td>\n",
              "      <td>8563.084537</td>\n",
              "    </tr>\n",
              "    <tr>\n",
              "      <th>19</th>\n",
              "      <td>2.962161</td>\n",
              "      <td>0.998795</td>\n",
              "      <td>317.355905</td>\n",
              "      <td>214.375115</td>\n",
              "      <td>0.197945</td>\n",
              "      <td>19.014446</td>\n",
              "      <td>9334.718379</td>\n",
              "      <td>3.0</td>\n",
              "      <td>1.0</td>\n",
              "      <td>9150.456109</td>\n",
              "    </tr>\n",
              "    <tr>\n",
              "      <th>20</th>\n",
              "      <td>0.591892</td>\n",
              "      <td>0.937472</td>\n",
              "      <td>41.535992</td>\n",
              "      <td>244.948485</td>\n",
              "      <td>0.669541</td>\n",
              "      <td>41.591920</td>\n",
              "      <td>9175.495528</td>\n",
              "      <td>1.0</td>\n",
              "      <td>4.0</td>\n",
              "      <td>8693.372778</td>\n",
              "    </tr>\n",
              "    <tr>\n",
              "      <th>21</th>\n",
              "      <td>1.419266</td>\n",
              "      <td>0.753820</td>\n",
              "      <td>33.285650</td>\n",
              "      <td>400.604705</td>\n",
              "      <td>0.202819</td>\n",
              "      <td>83.708382</td>\n",
              "      <td>9097.617983</td>\n",
              "      <td>3.0</td>\n",
              "      <td>3.0</td>\n",
              "      <td>8657.001028</td>\n",
              "    </tr>\n",
              "    <tr>\n",
              "      <th>22</th>\n",
              "      <td>5.230754</td>\n",
              "      <td>0.935152</td>\n",
              "      <td>232.858412</td>\n",
              "      <td>388.410439</td>\n",
              "      <td>0.912175</td>\n",
              "      <td>47.956159</td>\n",
              "      <td>9452.355835</td>\n",
              "      <td>1.0</td>\n",
              "      <td>5.0</td>\n",
              "      <td>8546.108752</td>\n",
              "    </tr>\n",
              "    <tr>\n",
              "      <th>23</th>\n",
              "      <td>5.988085</td>\n",
              "      <td>0.113776</td>\n",
              "      <td>914.470200</td>\n",
              "      <td>142.524459</td>\n",
              "      <td>0.329664</td>\n",
              "      <td>98.789342</td>\n",
              "      <td>9567.273169</td>\n",
              "      <td>2.0</td>\n",
              "      <td>4.0</td>\n",
              "      <td>10149.141590</td>\n",
              "    </tr>\n",
              "    <tr>\n",
              "      <th>24</th>\n",
              "      <td>8.195032</td>\n",
              "      <td>0.854905</td>\n",
              "      <td>487.945073</td>\n",
              "      <td>156.476210</td>\n",
              "      <td>0.909715</td>\n",
              "      <td>73.066519</td>\n",
              "      <td>9308.259813</td>\n",
              "      <td>3.0</td>\n",
              "      <td>1.0</td>\n",
              "      <td>7449.456929</td>\n",
              "    </tr>\n",
              "    <tr>\n",
              "      <th>25</th>\n",
              "      <td>3.194885</td>\n",
              "      <td>0.260525</td>\n",
              "      <td>961.738275</td>\n",
              "      <td>115.480756</td>\n",
              "      <td>0.236083</td>\n",
              "      <td>3.197296</td>\n",
              "      <td>9132.107858</td>\n",
              "      <td>1.0</td>\n",
              "      <td>2.0</td>\n",
              "      <td>9816.792722</td>\n",
              "    </tr>\n",
              "    <tr>\n",
              "      <th>26</th>\n",
              "      <td>3.294863</td>\n",
              "      <td>0.719575</td>\n",
              "      <td>181.742344</td>\n",
              "      <td>472.149330</td>\n",
              "      <td>0.662299</td>\n",
              "      <td>78.221564</td>\n",
              "      <td>9823.960163</td>\n",
              "      <td>2.0</td>\n",
              "      <td>4.0</td>\n",
              "      <td>8517.102495</td>\n",
              "    </tr>\n",
              "    <tr>\n",
              "      <th>27</th>\n",
              "      <td>3.802010</td>\n",
              "      <td>0.681405</td>\n",
              "      <td>673.362824</td>\n",
              "      <td>272.811228</td>\n",
              "      <td>0.705233</td>\n",
              "      <td>37.742212</td>\n",
              "      <td>9741.501061</td>\n",
              "      <td>2.0</td>\n",
              "      <td>4.0</td>\n",
              "      <td>8831.464893</td>\n",
              "    </tr>\n",
              "    <tr>\n",
              "      <th>28</th>\n",
              "      <td>4.895272</td>\n",
              "      <td>0.748536</td>\n",
              "      <td>480.623698</td>\n",
              "      <td>112.391457</td>\n",
              "      <td>0.208177</td>\n",
              "      <td>26.920674</td>\n",
              "      <td>9109.013124</td>\n",
              "      <td>3.0</td>\n",
              "      <td>4.0</td>\n",
              "      <td>9018.935180</td>\n",
              "    </tr>\n",
              "    <tr>\n",
              "      <th>29</th>\n",
              "      <td>5.952525</td>\n",
              "      <td>0.636155</td>\n",
              "      <td>107.505802</td>\n",
              "      <td>270.703572</td>\n",
              "      <td>0.950201</td>\n",
              "      <td>88.952857</td>\n",
              "      <td>9839.447124</td>\n",
              "      <td>1.0</td>\n",
              "      <td>2.0</td>\n",
              "      <td>9295.678185</td>\n",
              "    </tr>\n",
              "  </tbody>\n",
              "</table>\n",
              "</div>"
            ],
            "text/plain": [
              "           0         1           2  ...    7    8        target\n",
              "0   7.547600  0.151261  557.132466  ...  2.0  1.0   9461.469590\n",
              "1   3.140491  0.794497  837.116189  ...  2.0  5.0  10257.271938\n",
              "2   2.064447  0.236500  313.757354  ...  1.0  5.0   8719.214483\n",
              "3   9.099262  0.453953  661.409826  ...  3.0  2.0   9165.197338\n",
              "4   5.264564  0.683869  344.154511  ...  2.0  1.0   9458.427537\n",
              "5   7.688266  0.871856  824.173406  ...  3.0  2.0   7441.792936\n",
              "6   5.252539  0.897271  526.574095  ...  2.0  3.0   8806.508114\n",
              "7   2.282011  0.838755  987.022428  ...  3.0  6.0   9118.925554\n",
              "8   5.052074  0.505893  178.842481  ...  3.0  4.0   8860.349162\n",
              "9   6.089318  0.814142   69.891881  ...  2.0  5.0   7952.540140\n",
              "10  4.604351  0.211114  866.130117  ...  2.0  4.0   8452.070405\n",
              "11  9.550097  0.750328  171.273568  ...  1.0  2.0   9702.467084\n",
              "12  9.850484  0.138784  201.096928  ...  1.0  2.0   9836.923115\n",
              "13  1.918985  0.887111  800.586218  ...  3.0  3.0   8724.580600\n",
              "14  2.693755  0.814356  155.856516  ...  2.0  4.0   8186.020019\n",
              "15  7.704434  0.136535  101.522330  ...  2.0  1.0   8405.513670\n",
              "16  8.453051  0.871474  996.438829  ...  3.0  2.0   7353.739207\n",
              "17  7.931474  0.058478  233.155612  ...  1.0  4.0   8666.276303\n",
              "18  0.339598  0.880747  623.098532  ...  2.0  1.0   8563.084537\n",
              "19  2.962161  0.998795  317.355905  ...  3.0  1.0   9150.456109\n",
              "20  0.591892  0.937472   41.535992  ...  1.0  4.0   8693.372778\n",
              "21  1.419266  0.753820   33.285650  ...  3.0  3.0   8657.001028\n",
              "22  5.230754  0.935152  232.858412  ...  1.0  5.0   8546.108752\n",
              "23  5.988085  0.113776  914.470200  ...  2.0  4.0  10149.141590\n",
              "24  8.195032  0.854905  487.945073  ...  3.0  1.0   7449.456929\n",
              "25  3.194885  0.260525  961.738275  ...  1.0  2.0   9816.792722\n",
              "26  3.294863  0.719575  181.742344  ...  2.0  4.0   8517.102495\n",
              "27  3.802010  0.681405  673.362824  ...  2.0  4.0   8831.464893\n",
              "28  4.895272  0.748536  480.623698  ...  3.0  4.0   9018.935180\n",
              "29  5.952525  0.636155  107.505802  ...  1.0  2.0   9295.678185\n",
              "\n",
              "[30 rows x 10 columns]"
            ]
          },
          "metadata": {
            "tags": []
          },
          "execution_count": 4
        }
      ]
    },
    {
      "cell_type": "markdown",
      "metadata": {
        "id": "Dens_0cus_t7",
        "colab_type": "text"
      },
      "source": [
        "# **Exploring the Dataset**"
      ]
    },
    {
      "cell_type": "markdown",
      "metadata": {
        "id": "N48XR719syT1",
        "colab_type": "text"
      },
      "source": [
        "*To know the mean,max,count like values of the dataset*"
      ]
    },
    {
      "cell_type": "code",
      "metadata": {
        "id": "VRHkEPsqspYs",
        "colab_type": "code",
        "colab": {
          "base_uri": "https://localhost:8080/",
          "height": 317
        },
        "outputId": "8a29f22d-62a8-4f18-cfd3-aa18b6be2034"
      },
      "source": [
        "df.describe()"
      ],
      "execution_count": 5,
      "outputs": [
        {
          "output_type": "execute_result",
          "data": {
            "text/html": [
              "<div>\n",
              "<style scoped>\n",
              "    .dataframe tbody tr th:only-of-type {\n",
              "        vertical-align: middle;\n",
              "    }\n",
              "\n",
              "    .dataframe tbody tr th {\n",
              "        vertical-align: top;\n",
              "    }\n",
              "\n",
              "    .dataframe thead th {\n",
              "        text-align: right;\n",
              "    }\n",
              "</style>\n",
              "<table border=\"1\" class=\"dataframe\">\n",
              "  <thead>\n",
              "    <tr style=\"text-align: right;\">\n",
              "      <th></th>\n",
              "      <th>0</th>\n",
              "      <th>1</th>\n",
              "      <th>2</th>\n",
              "      <th>3</th>\n",
              "      <th>4</th>\n",
              "      <th>5</th>\n",
              "      <th>6</th>\n",
              "      <th>7</th>\n",
              "      <th>8</th>\n",
              "      <th>target</th>\n",
              "    </tr>\n",
              "  </thead>\n",
              "  <tbody>\n",
              "    <tr>\n",
              "      <th>count</th>\n",
              "      <td>900.000000</td>\n",
              "      <td>900.000000</td>\n",
              "      <td>900.000000</td>\n",
              "      <td>900.000000</td>\n",
              "      <td>900.000000</td>\n",
              "      <td>900.000000</td>\n",
              "      <td>900.000000</td>\n",
              "      <td>900.000000</td>\n",
              "      <td>900.000000</td>\n",
              "      <td>900.000000</td>\n",
              "    </tr>\n",
              "    <tr>\n",
              "      <th>mean</th>\n",
              "      <td>5.036548</td>\n",
              "      <td>0.504976</td>\n",
              "      <td>493.064463</td>\n",
              "      <td>297.303826</td>\n",
              "      <td>0.507925</td>\n",
              "      <td>49.781970</td>\n",
              "      <td>9507.426024</td>\n",
              "      <td>1.973333</td>\n",
              "      <td>3.436667</td>\n",
              "      <td>9118.263873</td>\n",
              "    </tr>\n",
              "    <tr>\n",
              "      <th>std</th>\n",
              "      <td>2.869018</td>\n",
              "      <td>0.289803</td>\n",
              "      <td>290.436017</td>\n",
              "      <td>116.899846</td>\n",
              "      <td>0.286008</td>\n",
              "      <td>28.684840</td>\n",
              "      <td>283.069448</td>\n",
              "      <td>0.788798</td>\n",
              "      <td>1.677367</td>\n",
              "      <td>852.633238</td>\n",
              "    </tr>\n",
              "    <tr>\n",
              "      <th>min</th>\n",
              "      <td>0.037452</td>\n",
              "      <td>0.000942</td>\n",
              "      <td>0.969406</td>\n",
              "      <td>100.651192</td>\n",
              "      <td>0.000527</td>\n",
              "      <td>0.185411</td>\n",
              "      <td>9000.096807</td>\n",
              "      <td>1.000000</td>\n",
              "      <td>1.000000</td>\n",
              "      <td>6298.862662</td>\n",
              "    </tr>\n",
              "    <tr>\n",
              "      <th>25%</th>\n",
              "      <td>2.518373</td>\n",
              "      <td>0.248575</td>\n",
              "      <td>247.145068</td>\n",
              "      <td>195.239150</td>\n",
              "      <td>0.284926</td>\n",
              "      <td>25.777689</td>\n",
              "      <td>9267.721916</td>\n",
              "      <td>1.000000</td>\n",
              "      <td>2.000000</td>\n",
              "      <td>8627.098283</td>\n",
              "    </tr>\n",
              "    <tr>\n",
              "      <th>50%</th>\n",
              "      <td>4.944200</td>\n",
              "      <td>0.524393</td>\n",
              "      <td>497.186526</td>\n",
              "      <td>301.949065</td>\n",
              "      <td>0.501211</td>\n",
              "      <td>49.517510</td>\n",
              "      <td>9500.814515</td>\n",
              "      <td>2.000000</td>\n",
              "      <td>3.000000</td>\n",
              "      <td>9208.588416</td>\n",
              "    </tr>\n",
              "    <tr>\n",
              "      <th>75%</th>\n",
              "      <td>7.631981</td>\n",
              "      <td>0.753136</td>\n",
              "      <td>736.572313</td>\n",
              "      <td>399.999965</td>\n",
              "      <td>0.750584</td>\n",
              "      <td>74.538269</td>\n",
              "      <td>9751.394987</td>\n",
              "      <td>3.000000</td>\n",
              "      <td>5.000000</td>\n",
              "      <td>9713.801784</td>\n",
              "    </tr>\n",
              "    <tr>\n",
              "      <th>max</th>\n",
              "      <td>9.997094</td>\n",
              "      <td>0.998795</td>\n",
              "      <td>999.208515</td>\n",
              "      <td>499.174221</td>\n",
              "      <td>0.999742</td>\n",
              "      <td>99.926403</td>\n",
              "      <td>9999.499080</td>\n",
              "      <td>3.000000</td>\n",
              "      <td>6.000000</td>\n",
              "      <td>11175.834533</td>\n",
              "    </tr>\n",
              "  </tbody>\n",
              "</table>\n",
              "</div>"
            ],
            "text/plain": [
              "                0           1           2  ...           7           8        target\n",
              "count  900.000000  900.000000  900.000000  ...  900.000000  900.000000    900.000000\n",
              "mean     5.036548    0.504976  493.064463  ...    1.973333    3.436667   9118.263873\n",
              "std      2.869018    0.289803  290.436017  ...    0.788798    1.677367    852.633238\n",
              "min      0.037452    0.000942    0.969406  ...    1.000000    1.000000   6298.862662\n",
              "25%      2.518373    0.248575  247.145068  ...    1.000000    2.000000   8627.098283\n",
              "50%      4.944200    0.524393  497.186526  ...    2.000000    3.000000   9208.588416\n",
              "75%      7.631981    0.753136  736.572313  ...    3.000000    5.000000   9713.801784\n",
              "max      9.997094    0.998795  999.208515  ...    3.000000    6.000000  11175.834533\n",
              "\n",
              "[8 rows x 10 columns]"
            ]
          },
          "metadata": {
            "tags": []
          },
          "execution_count": 5
        }
      ]
    },
    {
      "cell_type": "code",
      "metadata": {
        "id": "D-j2usGutZn-",
        "colab_type": "code",
        "colab": {
          "base_uri": "https://localhost:8080/",
          "height": 204
        },
        "outputId": "6c7b59c3-9ca6-46ad-a671-239a8c808504"
      },
      "source": [
        "df.isnull().sum()"
      ],
      "execution_count": 8,
      "outputs": [
        {
          "output_type": "execute_result",
          "data": {
            "text/plain": [
              "0         0\n",
              "1         0\n",
              "2         0\n",
              "3         0\n",
              "4         0\n",
              "5         0\n",
              "6         0\n",
              "7         0\n",
              "8         0\n",
              "target    0\n",
              "dtype: int64"
            ]
          },
          "metadata": {
            "tags": []
          },
          "execution_count": 8
        }
      ]
    },
    {
      "cell_type": "markdown",
      "metadata": {
        "id": "Eo6yTMMrtLYY",
        "colab_type": "text"
      },
      "source": [
        "*There is no null values in series*"
      ]
    },
    {
      "cell_type": "markdown",
      "metadata": {
        "id": "7tDv0yi9tTtE",
        "colab_type": "text"
      },
      "source": [
        "**Correlation Analysis**\n",
        "\n",
        "\n",
        "*It shows the correlation of one variable to all other variables*\n",
        "\n",
        "\n",
        "1.   Greater the correlation,more it will related to other variable.\n",
        "2.   We can discard the feature having more correlation.\n",
        "3.   variable with it obviously have 1 correlation.\n",
        "\n",
        "\n"
      ]
    },
    {
      "cell_type": "code",
      "metadata": {
        "id": "rVb8l1eVtoQT",
        "colab_type": "code",
        "colab": {
          "base_uri": "https://localhost:8080/",
          "height": 359
        },
        "outputId": "e1597a08-f3e6-4e7d-ef32-99d091fe04f2"
      },
      "source": [
        "pd.options.display.float_format='{:,.3f}'.format\n",
        "df.corr()"
      ],
      "execution_count": 9,
      "outputs": [
        {
          "output_type": "execute_result",
          "data": {
            "text/html": [
              "<div>\n",
              "<style scoped>\n",
              "    .dataframe tbody tr th:only-of-type {\n",
              "        vertical-align: middle;\n",
              "    }\n",
              "\n",
              "    .dataframe tbody tr th {\n",
              "        vertical-align: top;\n",
              "    }\n",
              "\n",
              "    .dataframe thead th {\n",
              "        text-align: right;\n",
              "    }\n",
              "</style>\n",
              "<table border=\"1\" class=\"dataframe\">\n",
              "  <thead>\n",
              "    <tr style=\"text-align: right;\">\n",
              "      <th></th>\n",
              "      <th>0</th>\n",
              "      <th>1</th>\n",
              "      <th>2</th>\n",
              "      <th>3</th>\n",
              "      <th>4</th>\n",
              "      <th>5</th>\n",
              "      <th>6</th>\n",
              "      <th>7</th>\n",
              "      <th>8</th>\n",
              "      <th>target</th>\n",
              "    </tr>\n",
              "  </thead>\n",
              "  <tbody>\n",
              "    <tr>\n",
              "      <th>0</th>\n",
              "      <td>1.000</td>\n",
              "      <td>-0.028</td>\n",
              "      <td>0.002</td>\n",
              "      <td>0.019</td>\n",
              "      <td>0.030</td>\n",
              "      <td>-0.030</td>\n",
              "      <td>0.030</td>\n",
              "      <td>-0.001</td>\n",
              "      <td>-0.047</td>\n",
              "      <td>0.038</td>\n",
              "    </tr>\n",
              "    <tr>\n",
              "      <th>1</th>\n",
              "      <td>-0.028</td>\n",
              "      <td>1.000</td>\n",
              "      <td>0.022</td>\n",
              "      <td>0.005</td>\n",
              "      <td>-0.004</td>\n",
              "      <td>0.065</td>\n",
              "      <td>0.032</td>\n",
              "      <td>-0.026</td>\n",
              "      <td>0.013</td>\n",
              "      <td>0.111</td>\n",
              "    </tr>\n",
              "    <tr>\n",
              "      <th>2</th>\n",
              "      <td>0.002</td>\n",
              "      <td>0.022</td>\n",
              "      <td>1.000</td>\n",
              "      <td>-0.035</td>\n",
              "      <td>0.041</td>\n",
              "      <td>-0.033</td>\n",
              "      <td>-0.014</td>\n",
              "      <td>0.005</td>\n",
              "      <td>0.038</td>\n",
              "      <td>0.319</td>\n",
              "    </tr>\n",
              "    <tr>\n",
              "      <th>3</th>\n",
              "      <td>0.019</td>\n",
              "      <td>0.005</td>\n",
              "      <td>-0.035</td>\n",
              "      <td>1.000</td>\n",
              "      <td>0.010</td>\n",
              "      <td>-0.031</td>\n",
              "      <td>0.030</td>\n",
              "      <td>0.003</td>\n",
              "      <td>0.006</td>\n",
              "      <td>-0.007</td>\n",
              "    </tr>\n",
              "    <tr>\n",
              "      <th>4</th>\n",
              "      <td>0.030</td>\n",
              "      <td>-0.004</td>\n",
              "      <td>0.041</td>\n",
              "      <td>0.010</td>\n",
              "      <td>1.000</td>\n",
              "      <td>0.021</td>\n",
              "      <td>0.081</td>\n",
              "      <td>-0.070</td>\n",
              "      <td>-0.009</td>\n",
              "      <td>-0.578</td>\n",
              "    </tr>\n",
              "    <tr>\n",
              "      <th>5</th>\n",
              "      <td>-0.030</td>\n",
              "      <td>0.065</td>\n",
              "      <td>-0.033</td>\n",
              "      <td>-0.031</td>\n",
              "      <td>0.021</td>\n",
              "      <td>1.000</td>\n",
              "      <td>0.031</td>\n",
              "      <td>0.069</td>\n",
              "      <td>0.066</td>\n",
              "      <td>-0.018</td>\n",
              "    </tr>\n",
              "    <tr>\n",
              "      <th>6</th>\n",
              "      <td>0.030</td>\n",
              "      <td>0.032</td>\n",
              "      <td>-0.014</td>\n",
              "      <td>0.030</td>\n",
              "      <td>0.081</td>\n",
              "      <td>0.031</td>\n",
              "      <td>1.000</td>\n",
              "      <td>-0.080</td>\n",
              "      <td>0.020</td>\n",
              "      <td>0.316</td>\n",
              "    </tr>\n",
              "    <tr>\n",
              "      <th>7</th>\n",
              "      <td>-0.001</td>\n",
              "      <td>-0.026</td>\n",
              "      <td>0.005</td>\n",
              "      <td>0.003</td>\n",
              "      <td>-0.070</td>\n",
              "      <td>0.069</td>\n",
              "      <td>-0.080</td>\n",
              "      <td>1.000</td>\n",
              "      <td>-0.006</td>\n",
              "      <td>-0.463</td>\n",
              "    </tr>\n",
              "    <tr>\n",
              "      <th>8</th>\n",
              "      <td>-0.047</td>\n",
              "      <td>0.013</td>\n",
              "      <td>0.038</td>\n",
              "      <td>0.006</td>\n",
              "      <td>-0.009</td>\n",
              "      <td>0.066</td>\n",
              "      <td>0.020</td>\n",
              "      <td>-0.006</td>\n",
              "      <td>1.000</td>\n",
              "      <td>0.023</td>\n",
              "    </tr>\n",
              "    <tr>\n",
              "      <th>target</th>\n",
              "      <td>0.038</td>\n",
              "      <td>0.111</td>\n",
              "      <td>0.319</td>\n",
              "      <td>-0.007</td>\n",
              "      <td>-0.578</td>\n",
              "      <td>-0.018</td>\n",
              "      <td>0.316</td>\n",
              "      <td>-0.463</td>\n",
              "      <td>0.023</td>\n",
              "      <td>1.000</td>\n",
              "    </tr>\n",
              "  </tbody>\n",
              "</table>\n",
              "</div>"
            ],
            "text/plain": [
              "            0      1      2      3      4      5      6      7      8  target\n",
              "0       1.000 -0.028  0.002  0.019  0.030 -0.030  0.030 -0.001 -0.047   0.038\n",
              "1      -0.028  1.000  0.022  0.005 -0.004  0.065  0.032 -0.026  0.013   0.111\n",
              "2       0.002  0.022  1.000 -0.035  0.041 -0.033 -0.014  0.005  0.038   0.319\n",
              "3       0.019  0.005 -0.035  1.000  0.010 -0.031  0.030  0.003  0.006  -0.007\n",
              "4       0.030 -0.004  0.041  0.010  1.000  0.021  0.081 -0.070 -0.009  -0.578\n",
              "5      -0.030  0.065 -0.033 -0.031  0.021  1.000  0.031  0.069  0.066  -0.018\n",
              "6       0.030  0.032 -0.014  0.030  0.081  0.031  1.000 -0.080  0.020   0.316\n",
              "7      -0.001 -0.026  0.005  0.003 -0.070  0.069 -0.080  1.000 -0.006  -0.463\n",
              "8      -0.047  0.013  0.038  0.006 -0.009  0.066  0.020 -0.006  1.000   0.023\n",
              "target  0.038  0.111  0.319 -0.007 -0.578 -0.018  0.316 -0.463  0.023   1.000"
            ]
          },
          "metadata": {
            "tags": []
          },
          "execution_count": 9
        }
      ]
    },
    {
      "cell_type": "markdown",
      "metadata": {
        "id": "HJ4zJoEPvH3j",
        "colab_type": "text"
      },
      "source": [
        "*here we can see there is no much correlation between the variable*\n",
        "{so we can't discard it}"
      ]
    },
    {
      "cell_type": "code",
      "metadata": {
        "id": "S5rsFtGw2GDv",
        "colab_type": "code",
        "colab": {
          "base_uri": "https://localhost:8080/",
          "height": 596
        },
        "outputId": "c3042730-0629-427e-c638-79675829612d"
      },
      "source": [
        "plt.figure(figsize=(16,10))\n",
        "sns.heatmap(df.corr(),annot=True,cmap='GnBu')\n",
        "plt.show()"
      ],
      "execution_count": 10,
      "outputs": [
        {
          "output_type": "display_data",
          "data": {
            "image/png": "[encoded data removed]",
            "text/plain": [
              "<Figure size 1152x720 with 2 Axes>"
            ]
          },
          "metadata": {
            "tags": [],
            "needs_background": "light"
          }
        }
      ]
    },
    {
      "cell_type": "markdown",
      "metadata": {
        "id": "rB8PFjzkvlYH",
        "colab_type": "text"
      },
      "source": [
        "Assigning the Varibale to feature"
      ]
    },
    {
      "cell_type": "code",
      "metadata": {
        "id": "OD9qjzQR59cF",
        "colab_type": "code",
        "colab": {}
      },
      "source": [
        "X=df.iloc[:,:-1].values\n",
        "y=df['target'].values\n"
      ],
      "execution_count": 11,
      "outputs": []
    },
    {
      "cell_type": "markdown",
      "metadata": {
        "id": "Dz-Jl2_Pvq7Y",
        "colab_type": "text"
      },
      "source": [
        "# Feature Scaling\n",
        "\n",
        "*Feature Scaling is a technique to standardize the independent features present in the data in a fixed range*\n",
        "\n",
        "It protect the feature having small range bt great impact on model from feature having big range"
      ]
    },
    {
      "cell_type": "code",
      "metadata": {
        "id": "2r6_i5C6GKOz",
        "colab_type": "code",
        "colab": {}
      },
      "source": [
        "from sklearn.preprocessing import StandardScaler\n",
        "sc_X=StandardScaler()\n",
        "X=sc_X.fit_transform(X)\n"
      ],
      "execution_count": 12,
      "outputs": []
    },
    {
      "cell_type": "markdown",
      "metadata": {
        "id": "xj-LZIKowKa7",
        "colab_type": "text"
      },
      "source": [
        "**Splitting the data into Train and Test set**"
      ]
    },
    {
      "cell_type": "code",
      "metadata": {
        "id": "vIY7hE-5MvRJ",
        "colab_type": "code",
        "colab": {}
      },
      "source": [
        "from sklearn.model_selection import train_test_split\n",
        "X_train,X_test,y_train,y_test=train_test_split(X,y,test_size=0.3)"
      ],
      "execution_count": 13,
      "outputs": []
    },
    {
      "cell_type": "markdown",
      "metadata": {
        "id": "pIbNyRYZwhDa",
        "colab_type": "text"
      },
      "source": [
        "# HyperParameter Tunning\n",
        "*In machine learning, Hyperparameter optimization or tuning is the problem of choosing a set of optimal hyperparameters for a learning algorithm. ... These measures are called hyperparameters, and have to be tuned so that the model can optimally solve the machine learning problem.*"
      ]
    },
    {
      "cell_type": "code",
      "metadata": {
        "id": "oP48N35aPoUz",
        "colab_type": "code",
        "colab": {
          "base_uri": "https://localhost:8080/",
          "height": 887
        },
        "outputId": "87607fd4-852a-4944-c948-5dba552fd3e5"
      },
      "source": [
        "\n",
        "params = {'min_child_weight':[2,4,7,15,20], 'gamma':[i/10.0 for i in range(3,8)],  'subsample':[i/10.0 for i in range(3,10)],\n",
        "'colsample_bytree':[i/10.0 for i in range(3,9)],\"colsample_bylevel\":[i/10.0 for i in range(3,9)],  'n_estimators':[1000, 1300,1500, 2000], \n",
        "          'learning_rate':[0.01, 0.05, 0.1],'objective':['reg:linear','reg:squarederror']}\n",
        "xgb = XGBRegressor(nthread=-1) \n",
        "\n",
        "random =RandomizedSearchCV(xgb, params)\n",
        "\n",
        "random.fit(X_train,y_train)"
      ],
      "execution_count": 15,
      "outputs": [
        {
          "output_type": "stream",
          "text": [
            "[14:51:56] WARNING: /workspace/src/objective/regression_obj.cu:152: reg:linear is now deprecated in favor of reg:squarederror.\n",
            "[14:51:56] WARNING: /workspace/src/objective/regression_obj.cu:152: reg:linear is now deprecated in favor of reg:squarederror.\n",
            "[14:51:57] WARNING: /workspace/src/objective/regression_obj.cu:152: reg:linear is now deprecated in favor of reg:squarederror.\n",
            "[14:51:57] WARNING: /workspace/src/objective/regression_obj.cu:152: reg:linear is now deprecated in favor of reg:squarederror.\n",
            "[14:51:57] WARNING: /workspace/src/objective/regression_obj.cu:152: reg:linear is now deprecated in favor of reg:squarederror.\n",
            "[14:51:58] WARNING: /workspace/src/objective/regression_obj.cu:152: reg:linear is now deprecated in favor of reg:squarederror.\n",
            "[14:51:58] WARNING: /workspace/src/objective/regression_obj.cu:152: reg:linear is now deprecated in favor of reg:squarederror.\n",
            "[14:51:58] WARNING: /workspace/src/objective/regression_obj.cu:152: reg:linear is now deprecated in favor of reg:squarederror.\n",
            "[14:51:59] WARNING: /workspace/src/objective/regression_obj.cu:152: reg:linear is now deprecated in favor of reg:squarederror.\n",
            "[14:51:59] WARNING: /workspace/src/objective/regression_obj.cu:152: reg:linear is now deprecated in favor of reg:squarederror.\n",
            "[14:51:59] WARNING: /workspace/src/objective/regression_obj.cu:152: reg:linear is now deprecated in favor of reg:squarederror.\n",
            "[14:51:59] WARNING: /workspace/src/objective/regression_obj.cu:152: reg:linear is now deprecated in favor of reg:squarederror.\n",
            "[14:52:00] WARNING: /workspace/src/objective/regression_obj.cu:152: reg:linear is now deprecated in favor of reg:squarederror.\n",
            "[14:52:00] WARNING: /workspace/src/objective/regression_obj.cu:152: reg:linear is now deprecated in favor of reg:squarederror.\n",
            "[14:52:00] WARNING: /workspace/src/objective/regression_obj.cu:152: reg:linear is now deprecated in favor of reg:squarederror.\n",
            "[14:52:02] WARNING: /workspace/src/objective/regression_obj.cu:152: reg:linear is now deprecated in favor of reg:squarederror.\n",
            "[14:52:03] WARNING: /workspace/src/objective/regression_obj.cu:152: reg:linear is now deprecated in favor of reg:squarederror.\n",
            "[14:52:03] WARNING: /workspace/src/objective/regression_obj.cu:152: reg:linear is now deprecated in favor of reg:squarederror.\n",
            "[14:52:03] WARNING: /workspace/src/objective/regression_obj.cu:152: reg:linear is now deprecated in favor of reg:squarederror.\n",
            "[14:52:04] WARNING: /workspace/src/objective/regression_obj.cu:152: reg:linear is now deprecated in favor of reg:squarederror.\n",
            "[14:52:06] WARNING: /workspace/src/objective/regression_obj.cu:152: reg:linear is now deprecated in favor of reg:squarederror.\n",
            "[14:52:06] WARNING: /workspace/src/objective/regression_obj.cu:152: reg:linear is now deprecated in favor of reg:squarederror.\n",
            "[14:52:07] WARNING: /workspace/src/objective/regression_obj.cu:152: reg:linear is now deprecated in favor of reg:squarederror.\n",
            "[14:52:07] WARNING: /workspace/src/objective/regression_obj.cu:152: reg:linear is now deprecated in favor of reg:squarederror.\n",
            "[14:52:08] WARNING: /workspace/src/objective/regression_obj.cu:152: reg:linear is now deprecated in favor of reg:squarederror.\n"
          ],
          "name": "stdout"
        },
        {
          "output_type": "execute_result",
          "data": {
            "text/plain": [
              "RandomizedSearchCV(cv=None, error_score=nan,\n",
              "                   estimator=XGBRegressor(base_score=0.5, booster='gbtree',\n",
              "                                          colsample_bylevel=1,\n",
              "                                          colsample_bynode=1,\n",
              "                                          colsample_bytree=1, gamma=0,\n",
              "                                          importance_type='gain',\n",
              "                                          learning_rate=0.1, max_delta_step=0,\n",
              "                                          max_depth=3, min_child_weight=1,\n",
              "                                          missing=None, n_estimators=100,\n",
              "                                          n_jobs=1, nthread=-1,\n",
              "                                          objective='reg:linear',\n",
              "                                          random_state=0, reg_alpha...\n",
              "                                        'colsample_bytree': [0.3, 0.4, 0.5, 0.6,\n",
              "                                                             0.7, 0.8],\n",
              "                                        'gamma': [0.3, 0.4, 0.5, 0.6, 0.7],\n",
              "                                        'learning_rate': [0.01, 0.05, 0.1],\n",
              "                                        'min_child_weight': [2, 4, 7, 15, 20],\n",
              "                                        'n_estimators': [1000, 1300, 1500,\n",
              "                                                         2000],\n",
              "                                        'objective': ['reg:linear',\n",
              "                                                      'reg:squarederror'],\n",
              "                                        'subsample': [0.3, 0.4, 0.5, 0.6, 0.7,\n",
              "                                                      0.8, 0.9]},\n",
              "                   pre_dispatch='2*n_jobs', random_state=None, refit=True,\n",
              "                   return_train_score=False, scoring=None, verbose=0)"
            ]
          },
          "metadata": {
            "tags": []
          },
          "execution_count": 15
        }
      ]
    },
    {
      "cell_type": "markdown",
      "metadata": {
        "id": "sQn-RTkFw_G1",
        "colab_type": "text"
      },
      "source": [
        "*finding the best estimator*"
      ]
    },
    {
      "cell_type": "code",
      "metadata": {
        "id": "z-5LffQ_QCnV",
        "colab_type": "code",
        "colab": {
          "base_uri": "https://localhost:8080/",
          "height": 136
        },
        "outputId": "14dcc919-e19f-40b2-bf33-d9ac5d11595f"
      },
      "source": [
        "random.best_estimator_"
      ],
      "execution_count": 16,
      "outputs": [
        {
          "output_type": "execute_result",
          "data": {
            "text/plain": [
              "XGBRegressor(base_score=0.5, booster='gbtree', colsample_bylevel=0.6,\n",
              "             colsample_bynode=1, colsample_bytree=0.7, gamma=0.5,\n",
              "             importance_type='gain', learning_rate=0.1, max_delta_step=0,\n",
              "             max_depth=3, min_child_weight=2, missing=None, n_estimators=1000,\n",
              "             n_jobs=1, nthread=-1, objective='reg:squarederror', random_state=0,\n",
              "             reg_alpha=0, reg_lambda=1, scale_pos_weight=1, seed=None,\n",
              "             silent=None, subsample=0.5, verbosity=1)"
            ]
          },
          "metadata": {
            "tags": []
          },
          "execution_count": 16
        }
      ]
    },
    {
      "cell_type": "markdown",
      "metadata": {
        "id": "Do7OWNOFxIle",
        "colab_type": "text"
      },
      "source": [
        "## **fiting the model**"
      ]
    },
    {
      "cell_type": "code",
      "metadata": {
        "id": "u1_amYRXHniC",
        "colab_type": "code",
        "colab": {
          "base_uri": "https://localhost:8080/",
          "height": 136
        },
        "outputId": "e1608668-7bfe-40ef-fd19-3a922e80aadd"
      },
      "source": [
        "\n",
        "model=XGBRegressor(base_score=0.5, booster='gbtree', colsample_bylevel=0.6,\n",
        "             colsample_bynode=1, colsample_bytree=0.6, gamma=0.4,\n",
        "             importance_type='gain', learning_rate=0.01, max_delta_step=0,\n",
        "             max_depth=3, min_child_weight=20, missing=None, n_estimators=1000,\n",
        "             n_jobs=1, nthread=-1, objective='reg:squarederror', random_state=0,\n",
        "             reg_alpha=0, reg_lambda=1, scale_pos_weight=1, seed=None,\n",
        "             silent=None, subsample=0.8, verbosity=1)\n",
        "model.fit(X_train,y_train)"
      ],
      "execution_count": 18,
      "outputs": [
        {
          "output_type": "execute_result",
          "data": {
            "text/plain": [
              "XGBRegressor(base_score=0.5, booster='gbtree', colsample_bylevel=0.6,\n",
              "             colsample_bynode=1, colsample_bytree=0.6, gamma=0.4,\n",
              "             importance_type='gain', learning_rate=0.01, max_delta_step=0,\n",
              "             max_depth=3, min_child_weight=20, missing=None, n_estimators=1000,\n",
              "             n_jobs=1, nthread=-1, objective='reg:squarederror', random_state=0,\n",
              "             reg_alpha=0, reg_lambda=1, scale_pos_weight=1, seed=None,\n",
              "             silent=None, subsample=0.8, verbosity=1)"
            ]
          },
          "metadata": {
            "tags": []
          },
          "execution_count": 18
        }
      ]
    },
    {
      "cell_type": "code",
      "metadata": {
        "id": "-IrvKuaVPOpX",
        "colab_type": "code",
        "colab": {}
      },
      "source": [
        "y_pred_train=model.predict(X_train)\n",
        "y_pred_test=model.predict(X_test)"
      ],
      "execution_count": 19,
      "outputs": []
    },
    {
      "cell_type": "markdown",
      "metadata": {
        "id": "7Sx5z29xWpT1",
        "colab_type": "text"
      },
      "source": [
        "# Root Mean Squared Error"
      ]
    },
    {
      "cell_type": "code",
      "metadata": {
        "id": "OwBFJJtvMtrD",
        "colab_type": "code",
        "colab": {}
      },
      "source": [
        "def rmsle(y_pred,y_test) :\n",
        "  error = np.square(np.log10(y_pred +1) - np.log10(y_test +1)).mean() ** 0.5\n",
        "  Acc = 1 - error\n",
        "  return Acc"
      ],
      "execution_count": null,
      "outputs": []
    },
    {
      "cell_type": "code",
      "metadata": {
        "id": "-OV5RghANPUx",
        "colab_type": "code",
        "colab": {
          "base_uri": "https://localhost:8080/",
          "height": 34
        },
        "outputId": "7963d858-96df-4f0e-e8a2-90c80f6023c1"
      },
      "source": [
        "print(rmsle(y_pred_train, y_train),rmsle(y_pred_test, y_test))"
      ],
      "execution_count": null,
      "outputs": [
        {
          "output_type": "stream",
          "text": [
            "0.9887406301043171 0.9852421621147726\n"
          ],
          "name": "stdout"
        }
      ]
    },
    {
      "cell_type": "markdown",
      "metadata": {
        "id": "UPpa2Q9_Wx-P",
        "colab_type": "text"
      },
      "source": [
        "# r2_score"
      ]
    },
    {
      "cell_type": "code",
      "metadata": {
        "id": "hJhdJzCuU-4V",
        "colab_type": "code",
        "colab": {
          "base_uri": "https://localhost:8080/",
          "height": 51
        },
        "outputId": "50e2027f-efd9-496c-d8ce-22103071a655"
      },
      "source": [
        "print(\"Train_score: %f \\n Test_score: %f\"%(r2_score(y_train,y_pred_train),r2_score(y_test,y_pred_test)))\n"
      ],
      "execution_count": null,
      "outputs": [
        {
          "output_type": "stream",
          "text": [
            "Train_score: 0.924873 \n",
            " Test_score: 0.876870\n"
          ],
          "name": "stdout"
        }
      ]
    },
    {
      "cell_type": "code",
      "metadata": {
        "id": "iGGtQmeaXGx6",
        "colab_type": "code",
        "colab": {}
      },
      "source": [
        ""
      ],
      "execution_count": null,
      "outputs": []
    },
    {
      "cell_type": "markdown",
      "metadata": {
        "id": "XjDq1b5NYlZ6",
        "colab_type": "text"
      },
      "source": [
        "# Applying to Prediction Dataset\n",
        "loading the prediction dataset"
      ]
    },
    {
      "cell_type": "code",
      "metadata": {
        "id": "ymkxeCMpY_tH",
        "colab_type": "code",
        "colab": {
          "base_uri": "https://localhost:8080/",
          "height": 221
        },
        "outputId": "7d068ed9-ef74-408a-b5a5-dc3991e142ae"
      },
      "source": [
        "%cd '/content/challenges/2020/06/hiring/resources/data_science'\n",
        "data=pd.read_csv('prediction.csv')\n",
        "data.head()"
      ],
      "execution_count": 21,
      "outputs": [
        {
          "output_type": "stream",
          "text": [
            "/content/challenges/2020/06/hiring/resources/data_science\n"
          ],
          "name": "stdout"
        },
        {
          "output_type": "execute_result",
          "data": {
            "text/html": [
              "<div>\n",
              "<style scoped>\n",
              "    .dataframe tbody tr th:only-of-type {\n",
              "        vertical-align: middle;\n",
              "    }\n",
              "\n",
              "    .dataframe tbody tr th {\n",
              "        vertical-align: top;\n",
              "    }\n",
              "\n",
              "    .dataframe thead th {\n",
              "        text-align: right;\n",
              "    }\n",
              "</style>\n",
              "<table border=\"1\" class=\"dataframe\">\n",
              "  <thead>\n",
              "    <tr style=\"text-align: right;\">\n",
              "      <th></th>\n",
              "      <th>0</th>\n",
              "      <th>1</th>\n",
              "      <th>2</th>\n",
              "      <th>3</th>\n",
              "      <th>4</th>\n",
              "      <th>5</th>\n",
              "      <th>6</th>\n",
              "      <th>7</th>\n",
              "      <th>8</th>\n",
              "    </tr>\n",
              "  </thead>\n",
              "  <tbody>\n",
              "    <tr>\n",
              "      <th>0</th>\n",
              "      <td>8.244</td>\n",
              "      <td>0.443</td>\n",
              "      <td>814.191</td>\n",
              "      <td>437.449</td>\n",
              "      <td>0.821</td>\n",
              "      <td>66.358</td>\n",
              "      <td>9,321.585</td>\n",
              "      <td>1.000</td>\n",
              "      <td>5.000</td>\n",
              "    </tr>\n",
              "    <tr>\n",
              "      <th>1</th>\n",
              "      <td>0.450</td>\n",
              "      <td>0.735</td>\n",
              "      <td>690.536</td>\n",
              "      <td>337.972</td>\n",
              "      <td>0.163</td>\n",
              "      <td>88.966</td>\n",
              "      <td>9,653.465</td>\n",
              "      <td>2.000</td>\n",
              "      <td>3.000</td>\n",
              "    </tr>\n",
              "    <tr>\n",
              "      <th>2</th>\n",
              "      <td>5.806</td>\n",
              "      <td>0.413</td>\n",
              "      <td>225.544</td>\n",
              "      <td>468.295</td>\n",
              "      <td>0.255</td>\n",
              "      <td>27.854</td>\n",
              "      <td>9,840.535</td>\n",
              "      <td>2.000</td>\n",
              "      <td>3.000</td>\n",
              "    </tr>\n",
              "    <tr>\n",
              "      <th>3</th>\n",
              "      <td>4.126</td>\n",
              "      <td>0.685</td>\n",
              "      <td>73.331</td>\n",
              "      <td>169.578</td>\n",
              "      <td>0.829</td>\n",
              "      <td>81.692</td>\n",
              "      <td>9,044.806</td>\n",
              "      <td>2.000</td>\n",
              "      <td>5.000</td>\n",
              "    </tr>\n",
              "    <tr>\n",
              "      <th>4</th>\n",
              "      <td>8.083</td>\n",
              "      <td>0.450</td>\n",
              "      <td>526.274</td>\n",
              "      <td>308.149</td>\n",
              "      <td>0.737</td>\n",
              "      <td>30.420</td>\n",
              "      <td>9,916.539</td>\n",
              "      <td>1.000</td>\n",
              "      <td>5.000</td>\n",
              "    </tr>\n",
              "  </tbody>\n",
              "</table>\n",
              "</div>"
            ],
            "text/plain": [
              "      0     1       2       3     4      5         6     7     8\n",
              "0 8.244 0.443 814.191 437.449 0.821 66.358 9,321.585 1.000 5.000\n",
              "1 0.450 0.735 690.536 337.972 0.163 88.966 9,653.465 2.000 3.000\n",
              "2 5.806 0.413 225.544 468.295 0.255 27.854 9,840.535 2.000 3.000\n",
              "3 4.126 0.685  73.331 169.578 0.829 81.692 9,044.806 2.000 5.000\n",
              "4 8.083 0.450 526.274 308.149 0.737 30.420 9,916.539 1.000 5.000"
            ]
          },
          "metadata": {
            "tags": []
          },
          "execution_count": 21
        }
      ]
    },
    {
      "cell_type": "markdown",
      "metadata": {
        "id": "YwUzcLJ6xUhC",
        "colab_type": "text"
      },
      "source": [
        "**Applying feature scaling**"
      ]
    },
    {
      "cell_type": "code",
      "metadata": {
        "id": "x57ECvGqaqP8",
        "colab_type": "code",
        "colab": {}
      },
      "source": [
        "sc_data=StandardScaler()\n",
        "data=sc_X.fit_transform(data)"
      ],
      "execution_count": 22,
      "outputs": []
    },
    {
      "cell_type": "code",
      "metadata": {
        "id": "JrjQZz9QbSly",
        "colab_type": "code",
        "colab": {}
      },
      "source": [
        "final=model.predict(data)"
      ],
      "execution_count": 23,
      "outputs": []
    },
    {
      "cell_type": "code",
      "metadata": {
        "id": "VkqsSK7TbY3q",
        "colab_type": "code",
        "colab": {
          "base_uri": "https://localhost:8080/",
          "height": 419
        },
        "outputId": "90edb047-a4e3-44ec-b5f5-54e7df0767d3"
      },
      "source": [
        "target_data=pd.DataFrame({\"target\": final})\n",
        "target_data"
      ],
      "execution_count": null,
      "outputs": [
        {
          "output_type": "execute_result",
          "data": {
            "text/html": [
              "<div>\n",
              "<style scoped>\n",
              "    .dataframe tbody tr th:only-of-type {\n",
              "        vertical-align: middle;\n",
              "    }\n",
              "\n",
              "    .dataframe tbody tr th {\n",
              "        vertical-align: top;\n",
              "    }\n",
              "\n",
              "    .dataframe thead th {\n",
              "        text-align: right;\n",
              "    }\n",
              "</style>\n",
              "<table border=\"1\" class=\"dataframe\">\n",
              "  <thead>\n",
              "    <tr style=\"text-align: right;\">\n",
              "      <th></th>\n",
              "      <th>target</th>\n",
              "    </tr>\n",
              "  </thead>\n",
              "  <tbody>\n",
              "    <tr>\n",
              "      <th>0</th>\n",
              "      <td>9,239.205</td>\n",
              "    </tr>\n",
              "    <tr>\n",
              "      <th>1</th>\n",
              "      <td>9,989.638</td>\n",
              "    </tr>\n",
              "    <tr>\n",
              "      <th>2</th>\n",
              "      <td>9,527.916</td>\n",
              "    </tr>\n",
              "    <tr>\n",
              "      <th>3</th>\n",
              "      <td>7,601.161</td>\n",
              "    </tr>\n",
              "    <tr>\n",
              "      <th>4</th>\n",
              "      <td>9,641.141</td>\n",
              "    </tr>\n",
              "    <tr>\n",
              "      <th>...</th>\n",
              "      <td>...</td>\n",
              "    </tr>\n",
              "    <tr>\n",
              "      <th>95</th>\n",
              "      <td>8,611.601</td>\n",
              "    </tr>\n",
              "    <tr>\n",
              "      <th>96</th>\n",
              "      <td>8,274.449</td>\n",
              "    </tr>\n",
              "    <tr>\n",
              "      <th>97</th>\n",
              "      <td>9,227.591</td>\n",
              "    </tr>\n",
              "    <tr>\n",
              "      <th>98</th>\n",
              "      <td>9,561.056</td>\n",
              "    </tr>\n",
              "    <tr>\n",
              "      <th>99</th>\n",
              "      <td>8,286.824</td>\n",
              "    </tr>\n",
              "  </tbody>\n",
              "</table>\n",
              "<p>100 rows × 1 columns</p>\n",
              "</div>"
            ],
            "text/plain": [
              "      target\n",
              "0  9,239.205\n",
              "1  9,989.638\n",
              "2  9,527.916\n",
              "3  7,601.161\n",
              "4  9,641.141\n",
              "..       ...\n",
              "95 8,611.601\n",
              "96 8,274.449\n",
              "97 9,227.591\n",
              "98 9,561.056\n",
              "99 8,286.824\n",
              "\n",
              "[100 rows x 1 columns]"
            ]
          },
          "metadata": {
            "tags": []
          },
          "execution_count": 104
        }
      ]
    },
    {
      "cell_type": "markdown",
      "metadata": {
        "id": "ahedmE0px-HJ",
        "colab_type": "text"
      },
      "source": [
        "# *Exporting into excel sheet*"
      ]
    },
    {
      "cell_type": "code",
      "metadata": {
        "id": "TdTtjOEUbaoQ",
        "colab_type": "code",
        "colab": {}
      },
      "source": [
        "target_data.to_excel('prediction_target.xlsx',index=False)\n"
      ],
      "execution_count": null,
      "outputs": []
    },
    {
      "cell_type": "code",
      "metadata": {
        "id": "65zJkWZ-cW67",
        "colab_type": "code",
        "colab": {}
      },
      "source": [
        ""
      ],
      "execution_count": null,
      "outputs": []
    }
  ]
}